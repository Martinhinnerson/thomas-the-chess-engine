{
 "cells": [
  {
   "cell_type": "code",
   "execution_count": 11,
   "metadata": {},
   "outputs": [
    {
     "data": {
      "text/html": [
       "<b>Move: 28 Black</br>Play g7c3</br>Evaluation: #-1</br> <p style=\"font-size:60px;margin:-4px 0 -4px 0px\">&#128526</p> </br><svg xmlns=\"http://www.w3.org/2000/svg\" xmlns:xlink=\"http://www.w3.org/1999/xlink\" version=\"1.2\" baseProfile=\"tiny\" viewBox=\"0 0 390 390\" width=\"390\" height=\"390\"><desc><pre>r . . . k . . r\n",
       "p . p p . p . p\n",
       "p . . . . . . .\n",
       ". . . . . . . .\n",
       ". . . . . . . .\n",
       "P . b . P . . .\n",
       ". . q . . P b P\n",
       ". . . . K . N R</pre></desc><defs><g id=\"white-pawn\" class=\"white pawn\"><path d=\"M22.5 9c-2.21 0-4 1.79-4 4 0 .89.29 1.71.78 2.38C17.33 16.5 16 18.59 16 21c0 2.03.94 3.84 2.41 5.03-3 1.06-7.41 5.55-7.41 13.47h23c0-7.92-4.41-12.41-7.41-13.47 1.47-1.19 2.41-3 2.41-5.03 0-2.41-1.33-4.5-3.28-5.62.49-.67.78-1.49.78-2.38 0-2.21-1.79-4-4-4z\" fill=\"#fff\" stroke=\"#000\" stroke-width=\"1.5\" stroke-linecap=\"round\" /></g><g id=\"white-knight\" class=\"white knight\" fill=\"none\" fill-rule=\"evenodd\" stroke=\"#000\" stroke-width=\"1.5\" stroke-linecap=\"round\" stroke-linejoin=\"round\"><path d=\"M 22,10 C 32.5,11 38.5,18 38,39 L 15,39 C 15,30 25,32.5 23,18\" style=\"fill:#ffffff; stroke:#000000;\" /><path d=\"M 24,18 C 24.38,20.91 18.45,25.37 16,27 C 13,29 13.18,31.34 11,31 C 9.958,30.06 12.41,27.96 11,28 C 10,28 11.19,29.23 10,30 C 9,30 5.997,31 6,26 C 6,24 12,14 12,14 C 12,14 13.89,12.1 14,10.5 C 13.27,9.506 13.5,8.5 13.5,7.5 C 14.5,6.5 16.5,10 16.5,10 L 18.5,10 C 18.5,10 19.28,8.008 21,7 C 22,7 22,10 22,10\" style=\"fill:#ffffff; stroke:#000000;\" /><path d=\"M 9.5 25.5 A 0.5 0.5 0 1 1 8.5,25.5 A 0.5 0.5 0 1 1 9.5 25.5 z\" style=\"fill:#000000; stroke:#000000;\" /><path d=\"M 15 15.5 A 0.5 1.5 0 1 1 14,15.5 A 0.5 1.5 0 1 1 15 15.5 z\" transform=\"matrix(0.866,0.5,-0.5,0.866,9.693,-5.173)\" style=\"fill:#000000; stroke:#000000;\" /></g><g id=\"white-rook\" class=\"white rook\" fill=\"#fff\" fill-rule=\"evenodd\" stroke=\"#000\" stroke-width=\"1.5\" stroke-linecap=\"round\" stroke-linejoin=\"round\"><path d=\"M9 39h27v-3H9v3zM12 36v-4h21v4H12zM11 14V9h4v2h5V9h5v2h5V9h4v5\" stroke-linecap=\"butt\" /><path d=\"M34 14l-3 3H14l-3-3\" /><path d=\"M31 17v12.5H14V17\" stroke-linecap=\"butt\" stroke-linejoin=\"miter\" /><path d=\"M31 29.5l1.5 2.5h-20l1.5-2.5\" /><path d=\"M11 14h23\" fill=\"none\" stroke-linejoin=\"miter\" /></g><g id=\"white-king\" class=\"white king\" fill=\"none\" fill-rule=\"evenodd\" stroke=\"#000\" stroke-width=\"1.5\" stroke-linecap=\"round\" stroke-linejoin=\"round\"><path d=\"M22.5 11.63V6M20 8h5\" stroke-linejoin=\"miter\" /><path d=\"M22.5 25s4.5-7.5 3-10.5c0 0-1-2.5-3-2.5s-3 2.5-3 2.5c-1.5 3 3 10.5 3 10.5\" fill=\"#fff\" stroke-linecap=\"butt\" stroke-linejoin=\"miter\" /><path d=\"M11.5 37c5.5 3.5 15.5 3.5 21 0v-7s9-4.5 6-10.5c-4-6.5-13.5-3.5-16 4V27v-3.5c-3.5-7.5-13-10.5-16-4-3 6 5 10 5 10V37z\" fill=\"#fff\" /><path d=\"M11.5 30c5.5-3 15.5-3 21 0m-21 3.5c5.5-3 15.5-3 21 0m-21 3.5c5.5-3 15.5-3 21 0\" /></g><g id=\"black-pawn\" class=\"black pawn\"><path d=\"M22.5 9c-2.21 0-4 1.79-4 4 0 .89.29 1.71.78 2.38C17.33 16.5 16 18.59 16 21c0 2.03.94 3.84 2.41 5.03-3 1.06-7.41 5.55-7.41 13.47h23c0-7.92-4.41-12.41-7.41-13.47 1.47-1.19 2.41-3 2.41-5.03 0-2.41-1.33-4.5-3.28-5.62.49-.67.78-1.49.78-2.38 0-2.21-1.79-4-4-4z\" stroke=\"#000\" stroke-width=\"1.5\" stroke-linecap=\"round\" /></g><g id=\"black-bishop\" class=\"black bishop\" fill=\"none\" fill-rule=\"evenodd\" stroke=\"#000\" stroke-width=\"1.5\" stroke-linecap=\"round\" stroke-linejoin=\"round\"><path d=\"M9 36c3.39-.97 10.11.43 13.5-2 3.39 2.43 10.11 1.03 13.5 2 0 0 1.65.54 3 2-.68.97-1.65.99-3 .5-3.39-.97-10.11.46-13.5-1-3.39 1.46-10.11.03-13.5 1-1.354.49-2.323.47-3-.5 1.354-1.94 3-2 3-2zm6-4c2.5 2.5 12.5 2.5 15 0 .5-1.5 0-2 0-2 0-2.5-2.5-4-2.5-4 5.5-1.5 6-11.5-5-15.5-11 4-10.5 14-5 15.5 0 0-2.5 1.5-2.5 4 0 0-.5.5 0 2zM25 8a2.5 2.5 0 1 1-5 0 2.5 2.5 0 1 1 5 0z\" fill=\"#000\" stroke-linecap=\"butt\" /><path d=\"M17.5 26h10M15 30h15m-7.5-14.5v5M20 18h5\" stroke=\"#fff\" stroke-linejoin=\"miter\" /></g><g id=\"black-rook\" class=\"black rook\" fill=\"#000\" fill-rule=\"evenodd\" stroke=\"#000\" stroke-width=\"1.5\" stroke-linecap=\"round\" stroke-linejoin=\"round\"><path d=\"M9 39h27v-3H9v3zM12.5 32l1.5-2.5h17l1.5 2.5h-20zM12 36v-4h21v4H12z\" stroke-linecap=\"butt\" /><path d=\"M14 29.5v-13h17v13H14z\" stroke-linecap=\"butt\" stroke-linejoin=\"miter\" /><path d=\"M14 16.5L11 14h23l-3 2.5H14zM11 14V9h4v2h5V9h5v2h5V9h4v5H11z\" stroke-linecap=\"butt\" /><path d=\"M12 35.5h21M13 31.5h19M14 29.5h17M14 16.5h17M11 14h23\" fill=\"none\" stroke=\"#fff\" stroke-width=\"1\" stroke-linejoin=\"miter\" /></g><g id=\"black-queen\" class=\"black queen\" fill=\"#000\" fill-rule=\"evenodd\" stroke=\"#000\" stroke-width=\"1.5\" stroke-linecap=\"round\" stroke-linejoin=\"round\"><g fill=\"#000\" stroke=\"none\"><circle cx=\"6\" cy=\"12\" r=\"2.75\" /><circle cx=\"14\" cy=\"9\" r=\"2.75\" /><circle cx=\"22.5\" cy=\"8\" r=\"2.75\" /><circle cx=\"31\" cy=\"9\" r=\"2.75\" /><circle cx=\"39\" cy=\"12\" r=\"2.75\" /></g><path d=\"M9 26c8.5-1.5 21-1.5 27 0l2.5-12.5L31 25l-.3-14.1-5.2 13.6-3-14.5-3 14.5-5.2-13.6L14 25 6.5 13.5 9 26zM9 26c0 2 1.5 2 2.5 4 1 1.5 1 1 .5 3.5-1.5 1-1.5 2.5-1.5 2.5-1.5 1.5.5 2.5.5 2.5 6.5 1 16.5 1 23 0 0 0 1.5-1 0-2.5 0 0 .5-1.5-1-2.5-.5-2.5-.5-2 .5-3.5 1-2 2.5-2 2.5-4-8.5-1.5-18.5-1.5-27 0z\" stroke-linecap=\"butt\" /><path d=\"M11 38.5a35 35 1 0 0 23 0\" fill=\"none\" stroke-linecap=\"butt\" /><path d=\"M11 29a35 35 1 0 1 23 0M12.5 31.5h20M11.5 34.5a35 35 1 0 0 22 0M10.5 37.5a35 35 1 0 0 24 0\" fill=\"none\" stroke=\"#fff\" /></g><g id=\"black-king\" class=\"black king\" fill=\"none\" fill-rule=\"evenodd\" stroke=\"#000\" stroke-width=\"1.5\" stroke-linecap=\"round\" stroke-linejoin=\"round\"><path d=\"M22.5 11.63V6\" stroke-linejoin=\"miter\" /><path d=\"M22.5 25s4.5-7.5 3-10.5c0 0-1-2.5-3-2.5s-3 2.5-3 2.5c-1.5 3 3 10.5 3 10.5\" fill=\"#000\" stroke-linecap=\"butt\" stroke-linejoin=\"miter\" /><path d=\"M11.5 37c5.5 3.5 15.5 3.5 21 0v-7s9-4.5 6-10.5c-4-6.5-13.5-3.5-16 4V27v-3.5c-3.5-7.5-13-10.5-16-4-3 6 5 10 5 10V37z\" fill=\"#000\" /><path d=\"M20 8h5\" stroke-linejoin=\"miter\" /><path d=\"M32 29.5s8.5-4 6.03-9.65C34.15 14 25 18 22.5 24.5l.01 2.1-.01-2.1C20 18 9.906 14 6.997 19.85c-2.497 5.65 4.853 9 4.853 9M11.5 30c5.5-3 15.5-3 21 0m-21 3.5c5.5-3 15.5-3 21 0m-21 3.5c5.5-3 15.5-3 21 0\" stroke=\"#fff\" /></g><radialGradient id=\"check_gradient\" r=\"0.5\"><stop offset=\"0%\" stop-color=\"#ff0000\" stop-opacity=\"1.0\" /><stop offset=\"50%\" stop-color=\"#e70000\" stop-opacity=\"1.0\" /><stop offset=\"100%\" stop-color=\"#9e0000\" stop-opacity=\"0.0\" /></radialGradient></defs><rect x=\"0\" y=\"0\" width=\"390\" height=\"390\" fill=\"#212121\" /><g transform=\"translate(20, 0) scale(0.75, 0.75)\" fill=\"#e5e5e5\" stroke=\"#e5e5e5\"><path d=\"M23.328 10.016q-1.742 0-2.414.398-.672.398-.672 1.36 0 .765.5 1.218.508.445 1.375.445 1.196 0 1.914-.843.727-.852.727-2.258v-.32zm2.867-.594v4.992h-1.437v-1.328q-.492.797-1.227 1.18-.734.375-1.797.375-1.343 0-2.14-.75-.79-.758-.79-2.024 0-1.476.985-2.226.992-.75 2.953-.75h2.016V8.75q0-.992-.656-1.531-.649-.547-1.829-.547-.75 0-1.46.18-.711.18-1.368.539V6.062q.79-.304 1.532-.453.742-.156 1.445-.156 1.898 0 2.836.984.937.985.937 2.985z\" /></g><g transform=\"translate(20, 375) scale(0.75, 0.75)\" fill=\"#e5e5e5\" stroke=\"#e5e5e5\"><path d=\"M23.328 10.016q-1.742 0-2.414.398-.672.398-.672 1.36 0 .765.5 1.218.508.445 1.375.445 1.196 0 1.914-.843.727-.852.727-2.258v-.32zm2.867-.594v4.992h-1.437v-1.328q-.492.797-1.227 1.18-.734.375-1.797.375-1.343 0-2.14-.75-.79-.758-.79-2.024 0-1.476.985-2.226.992-.75 2.953-.75h2.016V8.75q0-.992-.656-1.531-.649-.547-1.829-.547-.75 0-1.46.18-.711.18-1.368.539V6.062q.79-.304 1.532-.453.742-.156 1.445-.156 1.898 0 2.836.984.937.985.937 2.985z\" /></g><g transform=\"translate(65, 0) scale(0.75, 0.75)\" fill=\"#e5e5e5\" stroke=\"#e5e5e5\"><path d=\"M24.922 10.047q0-1.586-.656-2.485-.649-.906-1.79-.906-1.14 0-1.796.906-.649.899-.649 2.485 0 1.586.649 2.492.656.898 1.797.898 1.14 0 1.789-.898.656-.906.656-2.492zm-4.89-3.055q.452-.781 1.14-1.156.695-.383 1.656-.383 1.594 0 2.586 1.266 1 1.265 1 3.328 0 2.062-1 3.328-.992 1.266-2.586 1.266-.96 0-1.656-.375-.688-.383-1.14-1.164v1.312h-1.446V2.258h1.445z\" /></g><g transform=\"translate(65, 375) scale(0.75, 0.75)\" fill=\"#e5e5e5\" stroke=\"#e5e5e5\"><path d=\"M24.922 10.047q0-1.586-.656-2.485-.649-.906-1.79-.906-1.14 0-1.796.906-.649.899-.649 2.485 0 1.586.649 2.492.656.898 1.797.898 1.14 0 1.789-.898.656-.906.656-2.492zm-4.89-3.055q.452-.781 1.14-1.156.695-.383 1.656-.383 1.594 0 2.586 1.266 1 1.265 1 3.328 0 2.062-1 3.328-.992 1.266-2.586 1.266-.96 0-1.656-.375-.688-.383-1.14-1.164v1.312h-1.446V2.258h1.445z\" /></g><g transform=\"translate(110, 0) scale(0.75, 0.75)\" fill=\"#e5e5e5\" stroke=\"#e5e5e5\"><path d=\"M25.96 6v1.344q-.608-.336-1.226-.5-.609-.172-1.234-.172-1.398 0-2.172.89-.773.883-.773 2.485 0 1.601.773 2.492.774.883 2.172.883.625 0 1.234-.164.618-.172 1.227-.508v1.328q-.602.281-1.25.422-.64.14-1.367.14-1.977 0-3.14-1.242-1.165-1.242-1.165-3.351 0-2.14 1.172-3.367 1.18-1.227 3.227-1.227.664 0 1.296.14.633.134 1.227.407z\" /></g><g transform=\"translate(110, 375) scale(0.75, 0.75)\" fill=\"#e5e5e5\" stroke=\"#e5e5e5\"><path d=\"M25.96 6v1.344q-.608-.336-1.226-.5-.609-.172-1.234-.172-1.398 0-2.172.89-.773.883-.773 2.485 0 1.601.773 2.492.774.883 2.172.883.625 0 1.234-.164.618-.172 1.227-.508v1.328q-.602.281-1.25.422-.64.14-1.367.14-1.977 0-3.14-1.242-1.165-1.242-1.165-3.351 0-2.14 1.172-3.367 1.18-1.227 3.227-1.227.664 0 1.296.14.633.134 1.227.407z\" /></g><g transform=\"translate(155, 0) scale(0.75, 0.75)\" fill=\"#e5e5e5\" stroke=\"#e5e5e5\"><path d=\"M24.973 6.992V2.258h1.437v12.156h-1.437v-1.312q-.453.78-1.149 1.164-.687.375-1.656.375-1.586 0-2.586-1.266-.992-1.266-.992-3.328 0-2.063.992-3.328 1-1.266 2.586-1.266.969 0 1.656.383.696.375 1.149 1.156zm-4.899 3.055q0 1.586.649 2.492.656.898 1.797.898 1.14 0 1.796-.898.657-.906.657-2.492 0-1.586-.657-2.485-.656-.906-1.796-.906-1.141 0-1.797.906-.649.899-.649 2.485z\" /></g><g transform=\"translate(155, 375) scale(0.75, 0.75)\" fill=\"#e5e5e5\" stroke=\"#e5e5e5\"><path d=\"M24.973 6.992V2.258h1.437v12.156h-1.437v-1.312q-.453.78-1.149 1.164-.687.375-1.656.375-1.586 0-2.586-1.266-.992-1.266-.992-3.328 0-2.063.992-3.328 1-1.266 2.586-1.266.969 0 1.656.383.696.375 1.149 1.156zm-4.899 3.055q0 1.586.649 2.492.656.898 1.797.898 1.14 0 1.796-.898.657-.906.657-2.492 0-1.586-.657-2.485-.656-.906-1.796-.906-1.141 0-1.797.906-.649.899-.649 2.485z\" /></g><g transform=\"translate(200, 0) scale(0.75, 0.75)\" fill=\"#e5e5e5\" stroke=\"#e5e5e5\"><path d=\"M26.555 9.68v.703h-6.61q.094 1.484.89 2.265.806.774 2.235.774.828 0 1.602-.203.781-.203 1.547-.61v1.36q-.774.328-1.586.5-.813.172-1.649.172-2.093 0-3.32-1.22-1.219-1.218-1.219-3.296 0-2.148 1.157-3.406 1.164-1.266 3.132-1.266 1.766 0 2.79 1.14 1.03 1.134 1.03 3.087zm-1.438-.422q-.015-1.18-.664-1.883-.64-.703-1.703-.703-1.203 0-1.93.68-.718.68-.828 1.914z\" /></g><g transform=\"translate(200, 375) scale(0.75, 0.75)\" fill=\"#e5e5e5\" stroke=\"#e5e5e5\"><path d=\"M26.555 9.68v.703h-6.61q.094 1.484.89 2.265.806.774 2.235.774.828 0 1.602-.203.781-.203 1.547-.61v1.36q-.774.328-1.586.5-.813.172-1.649.172-2.093 0-3.32-1.22-1.219-1.218-1.219-3.296 0-2.148 1.157-3.406 1.164-1.266 3.132-1.266 1.766 0 2.79 1.14 1.03 1.134 1.03 3.087zm-1.438-.422q-.015-1.18-.664-1.883-.64-.703-1.703-.703-1.203 0-1.93.68-.718.68-.828 1.914z\" /></g><g transform=\"translate(245, 0) scale(0.75, 0.75)\" fill=\"#e5e5e5\" stroke=\"#e5e5e5\"><path d=\"M25.285 2.258v1.195H23.91q-.773 0-1.078.313-.297.312-.297 1.125v.773h2.367v1.117h-2.367v7.633H21.09V6.781h-1.375V5.664h1.375v-.61q0-1.46.68-2.124.68-.672 2.156-.672z\" /></g><g transform=\"translate(245, 375) scale(0.75, 0.75)\" fill=\"#e5e5e5\" stroke=\"#e5e5e5\"><path d=\"M25.285 2.258v1.195H23.91q-.773 0-1.078.313-.297.312-.297 1.125v.773h2.367v1.117h-2.367v7.633H21.09V6.781h-1.375V5.664h1.375v-.61q0-1.46.68-2.124.68-.672 2.156-.672z\" /></g><g transform=\"translate(290, 0) scale(0.75, 0.75)\" fill=\"#e5e5e5\" stroke=\"#e5e5e5\"><path d=\"M24.973 9.937q0-1.562-.649-2.421-.64-.86-1.804-.86-1.157 0-1.805.86-.64.859-.64 2.421 0 1.555.64 2.415.648.859 1.805.859 1.164 0 1.804-.86.649-.859.649-2.414zm1.437 3.391q0 2.234-.992 3.32-.992 1.094-3.04 1.094-.757 0-1.429-.117-.672-.11-1.304-.344v-1.398q.632.344 1.25.508.617.164 1.257.164 1.414 0 2.118-.743.703-.734.703-2.226v-.711q-.446.773-1.141 1.156-.695.383-1.664.383-1.61 0-2.594-1.227-.984-1.226-.984-3.25 0-2.03.984-3.257.985-1.227 2.594-1.227.969 0 1.664.383t1.14 1.156V5.664h1.438z\" /></g><g transform=\"translate(290, 375) scale(0.75, 0.75)\" fill=\"#e5e5e5\" stroke=\"#e5e5e5\"><path d=\"M24.973 9.937q0-1.562-.649-2.421-.64-.86-1.804-.86-1.157 0-1.805.86-.64.859-.64 2.421 0 1.555.64 2.415.648.859 1.805.859 1.164 0 1.804-.86.649-.859.649-2.414zm1.437 3.391q0 2.234-.992 3.32-.992 1.094-3.04 1.094-.757 0-1.429-.117-.672-.11-1.304-.344v-1.398q.632.344 1.25.508.617.164 1.257.164 1.414 0 2.118-.743.703-.734.703-2.226v-.711q-.446.773-1.141 1.156-.695.383-1.664.383-1.61 0-2.594-1.227-.984-1.226-.984-3.25 0-2.03.984-3.257.985-1.227 2.594-1.227.969 0 1.664.383t1.14 1.156V5.664h1.438z\" /></g><g transform=\"translate(335, 0) scale(0.75, 0.75)\" fill=\"#e5e5e5\" stroke=\"#e5e5e5\"><path d=\"M26.164 9.133v5.281h-1.437V9.18q0-1.243-.485-1.86-.484-.617-1.453-.617-1.164 0-1.836.742-.672.742-.672 2.024v4.945h-1.445V2.258h1.445v4.765q.516-.789 1.211-1.18.703-.39 1.617-.39 1.508 0 2.282.938.773.93.773 2.742z\" /></g><g transform=\"translate(335, 375) scale(0.75, 0.75)\" fill=\"#e5e5e5\" stroke=\"#e5e5e5\"><path d=\"M26.164 9.133v5.281h-1.437V9.18q0-1.243-.485-1.86-.484-.617-1.453-.617-1.164 0-1.836.742-.672.742-.672 2.024v4.945h-1.445V2.258h1.445v4.765q.516-.789 1.211-1.18.703-.39 1.617-.39 1.508 0 2.282.938.773.93.773 2.742z\" /></g><g transform=\"translate(0, 335) scale(0.75, 0.75)\" fill=\"#e5e5e5\" stroke=\"#e5e5e5\"><path d=\"M6.754 26.996h2.578v-8.898l-2.805.562v-1.437l2.79-.563h1.578v10.336h2.578v1.328h-6.72z\" /></g><g transform=\"translate(375, 335) scale(0.75, 0.75)\" fill=\"#e5e5e5\" stroke=\"#e5e5e5\"><path d=\"M6.754 26.996h2.578v-8.898l-2.805.562v-1.437l2.79-.563h1.578v10.336h2.578v1.328h-6.72z\" /></g><g transform=\"translate(0, 290) scale(0.75, 0.75)\" fill=\"#e5e5e5\" stroke=\"#e5e5e5\"><path d=\"M8.195 26.996h5.508v1.328H6.297v-1.328q.898-.93 2.445-2.492 1.555-1.57 1.953-2.024.758-.851 1.055-1.437.305-.594.305-1.164 0-.93-.657-1.516-.648-.586-1.695-.586-.742 0-1.57.258-.82.258-1.758.781v-1.593q.953-.383 1.781-.578.828-.196 1.516-.196 1.812 0 2.89.906 1.079.907 1.079 2.422 0 .72-.274 1.368-.265.64-.976 1.515-.196.227-1.243 1.313-1.046 1.078-2.953 3.023z\" /></g><g transform=\"translate(375, 290) scale(0.75, 0.75)\" fill=\"#e5e5e5\" stroke=\"#e5e5e5\"><path d=\"M8.195 26.996h5.508v1.328H6.297v-1.328q.898-.93 2.445-2.492 1.555-1.57 1.953-2.024.758-.851 1.055-1.437.305-.594.305-1.164 0-.93-.657-1.516-.648-.586-1.695-.586-.742 0-1.57.258-.82.258-1.758.781v-1.593q.953-.383 1.781-.578.828-.196 1.516-.196 1.812 0 2.89.906 1.079.907 1.079 2.422 0 .72-.274 1.368-.265.64-.976 1.515-.196.227-1.243 1.313-1.046 1.078-2.953 3.023z\" /></g><g transform=\"translate(0, 245) scale(0.75, 0.75)\" fill=\"#e5e5e5\" stroke=\"#e5e5e5\"><path d=\"M11.434 22.035q1.132.242 1.765 1.008.64.766.64 1.89 0 1.727-1.187 2.672-1.187.946-3.375.946-.734 0-1.515-.149-.774-.14-1.602-.43V26.45q.656.383 1.438.578.78.196 1.632.196 1.485 0 2.258-.586.782-.586.782-1.703 0-1.032-.727-1.61-.719-.586-2.008-.586h-1.36v-1.297h1.423q1.164 0 1.78-.46.618-.47.618-1.344 0-.899-.64-1.375-.633-.485-1.82-.485-.65 0-1.391.141-.743.14-1.633.437V16.95q.898-.25 1.68-.375.788-.125 1.484-.125 1.797 0 2.844.82 1.046.813 1.046 2.204 0 .968-.554 1.64-.555.664-1.578.922z\" /></g><g transform=\"translate(375, 245) scale(0.75, 0.75)\" fill=\"#e5e5e5\" stroke=\"#e5e5e5\"><path d=\"M11.434 22.035q1.132.242 1.765 1.008.64.766.64 1.89 0 1.727-1.187 2.672-1.187.946-3.375.946-.734 0-1.515-.149-.774-.14-1.602-.43V26.45q.656.383 1.438.578.78.196 1.632.196 1.485 0 2.258-.586.782-.586.782-1.703 0-1.032-.727-1.61-.719-.586-2.008-.586h-1.36v-1.297h1.423q1.164 0 1.78-.46.618-.47.618-1.344 0-.899-.64-1.375-.633-.485-1.82-.485-.65 0-1.391.141-.743.14-1.633.437V16.95q.898-.25 1.68-.375.788-.125 1.484-.125 1.797 0 2.844.82 1.046.813 1.046 2.204 0 .968-.554 1.64-.555.664-1.578.922z\" /></g><g transform=\"translate(0, 200) scale(0.75, 0.75)\" fill=\"#e5e5e5\" stroke=\"#e5e5e5\"><path d=\"M11.016 18.035L7.03 24.262h3.985zm-.414-1.375h1.984v7.602h1.664v1.312h-1.664v2.75h-1.57v-2.75H5.75v-1.523z\" /></g><g transform=\"translate(375, 200) scale(0.75, 0.75)\" fill=\"#e5e5e5\" stroke=\"#e5e5e5\"><path d=\"M11.016 18.035L7.03 24.262h3.985zm-.414-1.375h1.984v7.602h1.664v1.312h-1.664v2.75h-1.57v-2.75H5.75v-1.523z\" /></g><g transform=\"translate(0, 155) scale(0.75, 0.75)\" fill=\"#e5e5e5\" stroke=\"#e5e5e5\"><path d=\"M6.719 16.66h6.195v1.328h-4.75v2.86q.344-.118.688-.172.343-.063.687-.063 1.953 0 3.094 1.07 1.14 1.07 1.14 2.899 0 1.883-1.171 2.93-1.172 1.039-3.305 1.039-.735 0-1.5-.125-.758-.125-1.57-.375v-1.586q.703.383 1.453.57.75.188 1.586.188 1.351 0 2.14-.711.79-.711.79-1.93 0-1.219-.79-1.93-.789-.71-2.14-.71-.633 0-1.266.14-.625.14-1.281.438z\" /></g><g transform=\"translate(375, 155) scale(0.75, 0.75)\" fill=\"#e5e5e5\" stroke=\"#e5e5e5\"><path d=\"M6.719 16.66h6.195v1.328h-4.75v2.86q.344-.118.688-.172.343-.063.687-.063 1.953 0 3.094 1.07 1.14 1.07 1.14 2.899 0 1.883-1.171 2.93-1.172 1.039-3.305 1.039-.735 0-1.5-.125-.758-.125-1.57-.375v-1.586q.703.383 1.453.57.75.188 1.586.188 1.351 0 2.14-.711.79-.711.79-1.93 0-1.219-.79-1.93-.789-.71-2.14-.71-.633 0-1.266.14-.625.14-1.281.438z\" /></g><g transform=\"translate(0, 110) scale(0.75, 0.75)\" fill=\"#e5e5e5\" stroke=\"#e5e5e5\"><path d=\"M10.137 21.863q-1.063 0-1.688.727-.617.726-.617 1.992 0 1.258.617 1.992.625.727 1.688.727 1.062 0 1.68-.727.624-.734.624-1.992 0-1.266-.625-1.992-.617-.727-1.68-.727zm3.133-4.945v1.437q-.594-.28-1.204-.43-.601-.148-1.195-.148-1.562 0-2.39 1.055-.82 1.055-.938 3.188.46-.68 1.156-1.04.696-.367 1.531-.367 1.758 0 2.774 1.07 1.023 1.063 1.023 2.899 0 1.797-1.062 2.883-1.063 1.086-2.828 1.086-2.024 0-3.094-1.547-1.07-1.555-1.07-4.5 0-2.766 1.312-4.406 1.313-1.649 3.524-1.649.593 0 1.195.117.61.118 1.266.352z\" /></g><g transform=\"translate(375, 110) scale(0.75, 0.75)\" fill=\"#e5e5e5\" stroke=\"#e5e5e5\"><path d=\"M10.137 21.863q-1.063 0-1.688.727-.617.726-.617 1.992 0 1.258.617 1.992.625.727 1.688.727 1.062 0 1.68-.727.624-.734.624-1.992 0-1.266-.625-1.992-.617-.727-1.68-.727zm3.133-4.945v1.437q-.594-.28-1.204-.43-.601-.148-1.195-.148-1.562 0-2.39 1.055-.82 1.055-.938 3.188.46-.68 1.156-1.04.696-.367 1.531-.367 1.758 0 2.774 1.07 1.023 1.063 1.023 2.899 0 1.797-1.062 2.883-1.063 1.086-2.828 1.086-2.024 0-3.094-1.547-1.07-1.555-1.07-4.5 0-2.766 1.312-4.406 1.313-1.649 3.524-1.649.593 0 1.195.117.61.118 1.266.352z\" /></g><g transform=\"translate(0, 65) scale(0.75, 0.75)\" fill=\"#e5e5e5\" stroke=\"#e5e5e5\"><path d=\"M6.25 16.66h7.5v.672L9.516 28.324H7.867l3.985-10.336H6.25z\" /></g><g transform=\"translate(375, 65) scale(0.75, 0.75)\" fill=\"#e5e5e5\" stroke=\"#e5e5e5\"><path d=\"M6.25 16.66h7.5v.672L9.516 28.324H7.867l3.985-10.336H6.25z\" /></g><g transform=\"translate(0, 20) scale(0.75, 0.75)\" fill=\"#e5e5e5\" stroke=\"#e5e5e5\"><path d=\"M10 22.785q-1.125 0-1.773.602-.641.601-.641 1.656t.64 1.656q.649.602 1.774.602t1.773-.602q.649-.61.649-1.656 0-1.055-.649-1.656-.64-.602-1.773-.602zm-1.578-.672q-1.016-.25-1.586-.945-.563-.695-.563-1.695 0-1.399.993-2.211 1-.813 2.734-.813 1.742 0 2.734.813.993.812.993 2.21 0 1-.57 1.696-.563.695-1.571.945 1.14.266 1.773 1.04.641.773.641 1.89 0 1.695-1.04 2.602-1.03.906-2.96.906t-2.969-.906Q6 26.738 6 25.043q0-1.117.64-1.89.641-.774 1.782-1.04zm-.578-2.492q0 .906.562 1.414.57.508 1.594.508 1.016 0 1.586-.508.578-.508.578-1.414 0-.906-.578-1.414-.57-.508-1.586-.508-1.023 0-1.594.508-.562.508-.562 1.414z\" /></g><g transform=\"translate(375, 20) scale(0.75, 0.75)\" fill=\"#e5e5e5\" stroke=\"#e5e5e5\"><path d=\"M10 22.785q-1.125 0-1.773.602-.641.601-.641 1.656t.64 1.656q.649.602 1.774.602t1.773-.602q.649-.61.649-1.656 0-1.055-.649-1.656-.64-.602-1.773-.602zm-1.578-.672q-1.016-.25-1.586-.945-.563-.695-.563-1.695 0-1.399.993-2.211 1-.813 2.734-.813 1.742 0 2.734.813.993.812.993 2.21 0 1-.57 1.696-.563.695-1.571.945 1.14.266 1.773 1.04.641.773.641 1.89 0 1.695-1.04 2.602-1.03.906-2.96.906t-2.969-.906Q6 26.738 6 25.043q0-1.117.64-1.89.641-.774 1.782-1.04zm-.578-2.492q0 .906.562 1.414.57.508 1.594.508 1.016 0 1.586-.508.578-.508.578-1.414 0-.906-.578-1.414-.57-.508-1.586-.508-1.023 0-1.594.508-.562.508-.562 1.414z\" /></g><rect x=\"15\" y=\"330\" width=\"45\" height=\"45\" class=\"square dark a1\" stroke=\"none\" fill=\"#d18b47\" /><rect x=\"60\" y=\"330\" width=\"45\" height=\"45\" class=\"square light b1\" stroke=\"none\" fill=\"#ffce9e\" /><rect x=\"105\" y=\"330\" width=\"45\" height=\"45\" class=\"square dark c1\" stroke=\"none\" fill=\"#d18b47\" /><rect x=\"150\" y=\"330\" width=\"45\" height=\"45\" class=\"square light d1\" stroke=\"none\" fill=\"#ffce9e\" /><rect x=\"195\" y=\"330\" width=\"45\" height=\"45\" class=\"square dark e1\" stroke=\"none\" fill=\"#d18b47\" /><rect x=\"240\" y=\"330\" width=\"45\" height=\"45\" class=\"square light f1\" stroke=\"none\" fill=\"#ffce9e\" /><rect x=\"285\" y=\"330\" width=\"45\" height=\"45\" class=\"square dark g1\" stroke=\"none\" fill=\"#d18b47\" /><rect x=\"330\" y=\"330\" width=\"45\" height=\"45\" class=\"square light h1\" stroke=\"none\" fill=\"#ffce9e\" /><rect x=\"15\" y=\"285\" width=\"45\" height=\"45\" class=\"square light a2\" stroke=\"none\" fill=\"#ffce9e\" /><rect x=\"60\" y=\"285\" width=\"45\" height=\"45\" class=\"square dark b2\" stroke=\"none\" fill=\"#d18b47\" /><rect x=\"105\" y=\"285\" width=\"45\" height=\"45\" class=\"square light c2\" stroke=\"none\" fill=\"#ffce9e\" /><rect x=\"150\" y=\"285\" width=\"45\" height=\"45\" class=\"square dark d2\" stroke=\"none\" fill=\"#d18b47\" /><rect x=\"195\" y=\"285\" width=\"45\" height=\"45\" class=\"square light e2\" stroke=\"none\" fill=\"#ffce9e\" /><rect x=\"240\" y=\"285\" width=\"45\" height=\"45\" class=\"square dark f2\" stroke=\"none\" fill=\"#d18b47\" /><rect x=\"285\" y=\"285\" width=\"45\" height=\"45\" class=\"square light g2\" stroke=\"none\" fill=\"#ffce9e\" /><rect x=\"330\" y=\"285\" width=\"45\" height=\"45\" class=\"square dark h2\" stroke=\"none\" fill=\"#d18b47\" /><rect x=\"15\" y=\"240\" width=\"45\" height=\"45\" class=\"square dark a3\" stroke=\"none\" fill=\"#d18b47\" /><rect x=\"60\" y=\"240\" width=\"45\" height=\"45\" class=\"square light b3\" stroke=\"none\" fill=\"#ffce9e\" /><rect x=\"105\" y=\"240\" width=\"45\" height=\"45\" class=\"square dark lastmove c3\" stroke=\"none\" fill=\"#aaa23b\" /><rect x=\"150\" y=\"240\" width=\"45\" height=\"45\" class=\"square light d3\" stroke=\"none\" fill=\"#ffce9e\" /><rect x=\"195\" y=\"240\" width=\"45\" height=\"45\" class=\"square dark e3\" stroke=\"none\" fill=\"#d18b47\" /><rect x=\"240\" y=\"240\" width=\"45\" height=\"45\" class=\"square light f3\" stroke=\"none\" fill=\"#ffce9e\" /><rect x=\"285\" y=\"240\" width=\"45\" height=\"45\" class=\"square dark g3\" stroke=\"none\" fill=\"#d18b47\" /><rect x=\"330\" y=\"240\" width=\"45\" height=\"45\" class=\"square light h3\" stroke=\"none\" fill=\"#ffce9e\" /><rect x=\"15\" y=\"195\" width=\"45\" height=\"45\" class=\"square light a4\" stroke=\"none\" fill=\"#ffce9e\" /><rect x=\"60\" y=\"195\" width=\"45\" height=\"45\" class=\"square dark b4\" stroke=\"none\" fill=\"#d18b47\" /><rect x=\"105\" y=\"195\" width=\"45\" height=\"45\" class=\"square light c4\" stroke=\"none\" fill=\"#ffce9e\" /><rect x=\"150\" y=\"195\" width=\"45\" height=\"45\" class=\"square dark d4\" stroke=\"none\" fill=\"#d18b47\" /><rect x=\"195\" y=\"195\" width=\"45\" height=\"45\" class=\"square light e4\" stroke=\"none\" fill=\"#ffce9e\" /><rect x=\"240\" y=\"195\" width=\"45\" height=\"45\" class=\"square dark f4\" stroke=\"none\" fill=\"#d18b47\" /><rect x=\"285\" y=\"195\" width=\"45\" height=\"45\" class=\"square light g4\" stroke=\"none\" fill=\"#ffce9e\" /><rect x=\"330\" y=\"195\" width=\"45\" height=\"45\" class=\"square dark h4\" stroke=\"none\" fill=\"#d18b47\" /><rect x=\"15\" y=\"150\" width=\"45\" height=\"45\" class=\"square dark a5\" stroke=\"none\" fill=\"#d18b47\" /><rect x=\"60\" y=\"150\" width=\"45\" height=\"45\" class=\"square light b5\" stroke=\"none\" fill=\"#ffce9e\" /><rect x=\"105\" y=\"150\" width=\"45\" height=\"45\" class=\"square dark c5\" stroke=\"none\" fill=\"#d18b47\" /><rect x=\"150\" y=\"150\" width=\"45\" height=\"45\" class=\"square light d5\" stroke=\"none\" fill=\"#ffce9e\" /><rect x=\"195\" y=\"150\" width=\"45\" height=\"45\" class=\"square dark e5\" stroke=\"none\" fill=\"#d18b47\" /><rect x=\"240\" y=\"150\" width=\"45\" height=\"45\" class=\"square light f5\" stroke=\"none\" fill=\"#ffce9e\" /><rect x=\"285\" y=\"150\" width=\"45\" height=\"45\" class=\"square dark g5\" stroke=\"none\" fill=\"#d18b47\" /><rect x=\"330\" y=\"150\" width=\"45\" height=\"45\" class=\"square light h5\" stroke=\"none\" fill=\"#ffce9e\" /><rect x=\"15\" y=\"105\" width=\"45\" height=\"45\" class=\"square light a6\" stroke=\"none\" fill=\"#ffce9e\" /><rect x=\"60\" y=\"105\" width=\"45\" height=\"45\" class=\"square dark b6\" stroke=\"none\" fill=\"#d18b47\" /><rect x=\"105\" y=\"105\" width=\"45\" height=\"45\" class=\"square light c6\" stroke=\"none\" fill=\"#ffce9e\" /><rect x=\"150\" y=\"105\" width=\"45\" height=\"45\" class=\"square dark d6\" stroke=\"none\" fill=\"#d18b47\" /><rect x=\"195\" y=\"105\" width=\"45\" height=\"45\" class=\"square light e6\" stroke=\"none\" fill=\"#ffce9e\" /><rect x=\"240\" y=\"105\" width=\"45\" height=\"45\" class=\"square dark f6\" stroke=\"none\" fill=\"#d18b47\" /><rect x=\"285\" y=\"105\" width=\"45\" height=\"45\" class=\"square light g6\" stroke=\"none\" fill=\"#ffce9e\" /><rect x=\"330\" y=\"105\" width=\"45\" height=\"45\" class=\"square dark h6\" stroke=\"none\" fill=\"#d18b47\" /><rect x=\"15\" y=\"60\" width=\"45\" height=\"45\" class=\"square dark a7\" stroke=\"none\" fill=\"#d18b47\" /><rect x=\"60\" y=\"60\" width=\"45\" height=\"45\" class=\"square light b7\" stroke=\"none\" fill=\"#ffce9e\" /><rect x=\"105\" y=\"60\" width=\"45\" height=\"45\" class=\"square dark c7\" stroke=\"none\" fill=\"#d18b47\" /><rect x=\"150\" y=\"60\" width=\"45\" height=\"45\" class=\"square light d7\" stroke=\"none\" fill=\"#ffce9e\" /><rect x=\"195\" y=\"60\" width=\"45\" height=\"45\" class=\"square dark e7\" stroke=\"none\" fill=\"#d18b47\" /><rect x=\"240\" y=\"60\" width=\"45\" height=\"45\" class=\"square light f7\" stroke=\"none\" fill=\"#ffce9e\" /><rect x=\"285\" y=\"60\" width=\"45\" height=\"45\" class=\"square dark lastmove g7\" stroke=\"none\" fill=\"#aaa23b\" /><rect x=\"330\" y=\"60\" width=\"45\" height=\"45\" class=\"square light h7\" stroke=\"none\" fill=\"#ffce9e\" /><rect x=\"15\" y=\"15\" width=\"45\" height=\"45\" class=\"square light a8\" stroke=\"none\" fill=\"#ffce9e\" /><rect x=\"60\" y=\"15\" width=\"45\" height=\"45\" class=\"square dark b8\" stroke=\"none\" fill=\"#d18b47\" /><rect x=\"105\" y=\"15\" width=\"45\" height=\"45\" class=\"square light c8\" stroke=\"none\" fill=\"#ffce9e\" /><rect x=\"150\" y=\"15\" width=\"45\" height=\"45\" class=\"square dark d8\" stroke=\"none\" fill=\"#d18b47\" /><rect x=\"195\" y=\"15\" width=\"45\" height=\"45\" class=\"square light e8\" stroke=\"none\" fill=\"#ffce9e\" /><rect x=\"240\" y=\"15\" width=\"45\" height=\"45\" class=\"square dark f8\" stroke=\"none\" fill=\"#d18b47\" /><rect x=\"285\" y=\"15\" width=\"45\" height=\"45\" class=\"square light g8\" stroke=\"none\" fill=\"#ffce9e\" /><rect x=\"330\" y=\"15\" width=\"45\" height=\"45\" class=\"square dark h8\" stroke=\"none\" fill=\"#d18b47\" /><rect x=\"195\" y=\"330\" width=\"45\" height=\"45\" class=\"check\" fill=\"url(#check_gradient)\" /><use href=\"#white-king\" xlink:href=\"#white-king\" transform=\"translate(195, 330)\" /><use href=\"#white-knight\" xlink:href=\"#white-knight\" transform=\"translate(285, 330)\" /><use href=\"#white-rook\" xlink:href=\"#white-rook\" transform=\"translate(330, 330)\" /><use href=\"#black-queen\" xlink:href=\"#black-queen\" transform=\"translate(105, 285)\" /><use href=\"#white-pawn\" xlink:href=\"#white-pawn\" transform=\"translate(240, 285)\" /><use href=\"#black-bishop\" xlink:href=\"#black-bishop\" transform=\"translate(285, 285)\" /><use href=\"#white-pawn\" xlink:href=\"#white-pawn\" transform=\"translate(330, 285)\" /><use href=\"#white-pawn\" xlink:href=\"#white-pawn\" transform=\"translate(15, 240)\" /><use href=\"#black-bishop\" xlink:href=\"#black-bishop\" transform=\"translate(105, 240)\" /><use href=\"#white-pawn\" xlink:href=\"#white-pawn\" transform=\"translate(195, 240)\" /><use href=\"#black-pawn\" xlink:href=\"#black-pawn\" transform=\"translate(15, 105)\" /><use href=\"#black-pawn\" xlink:href=\"#black-pawn\" transform=\"translate(15, 60)\" /><use href=\"#black-pawn\" xlink:href=\"#black-pawn\" transform=\"translate(105, 60)\" /><use href=\"#black-pawn\" xlink:href=\"#black-pawn\" transform=\"translate(150, 60)\" /><use href=\"#black-pawn\" xlink:href=\"#black-pawn\" transform=\"translate(240, 60)\" /><use href=\"#black-pawn\" xlink:href=\"#black-pawn\" transform=\"translate(330, 60)\" /><use href=\"#black-rook\" xlink:href=\"#black-rook\" transform=\"translate(15, 15)\" /><use href=\"#black-king\" xlink:href=\"#black-king\" transform=\"translate(195, 15)\" /><use href=\"#black-rook\" xlink:href=\"#black-rook\" transform=\"translate(330, 15)\" /></svg></b><br/><p style=\"font-size:60px;margin:-4px 0 -4px 0px\">&#128561</p>"
      ],
      "text/plain": [
       "<IPython.core.display.HTML object>"
      ]
     },
     "metadata": {},
     "output_type": "display_data"
    },
    {
     "name": "stdout",
     "output_type": "stream",
     "text": [
      "Checkmate: Black win!\n",
      "https://lichess.org/hJ9mkG84\n"
     ]
    },
    {
     "data": {
      "image/svg+xml": "<svg xmlns=\"http://www.w3.org/2000/svg\" width=\"37mm\" height=\"37mm\" version=\"1.1\"><rect x=\"4mm\" y=\"4mm\" width=\"1mm\" height=\"1mm\"/><rect x=\"5mm\" y=\"4mm\" width=\"1mm\" height=\"1mm\"/><rect x=\"6mm\" y=\"4mm\" width=\"1mm\" height=\"1mm\"/><rect x=\"7mm\" y=\"4mm\" width=\"1mm\" height=\"1mm\"/><rect x=\"8mm\" y=\"4mm\" width=\"1mm\" height=\"1mm\"/><rect x=\"9mm\" y=\"4mm\" width=\"1mm\" height=\"1mm\"/><rect x=\"10mm\" y=\"4mm\" width=\"1mm\" height=\"1mm\"/><rect x=\"13mm\" y=\"4mm\" width=\"1mm\" height=\"1mm\"/><rect x=\"14mm\" y=\"4mm\" width=\"1mm\" height=\"1mm\"/><rect x=\"17mm\" y=\"4mm\" width=\"1mm\" height=\"1mm\"/><rect x=\"20mm\" y=\"4mm\" width=\"1mm\" height=\"1mm\"/><rect x=\"21mm\" y=\"4mm\" width=\"1mm\" height=\"1mm\"/><rect x=\"23mm\" y=\"4mm\" width=\"1mm\" height=\"1mm\"/><rect x=\"24mm\" y=\"4mm\" width=\"1mm\" height=\"1mm\"/><rect x=\"26mm\" y=\"4mm\" width=\"1mm\" height=\"1mm\"/><rect x=\"27mm\" y=\"4mm\" width=\"1mm\" height=\"1mm\"/><rect x=\"28mm\" y=\"4mm\" width=\"1mm\" height=\"1mm\"/><rect x=\"29mm\" y=\"4mm\" width=\"1mm\" height=\"1mm\"/><rect x=\"30mm\" y=\"4mm\" width=\"1mm\" height=\"1mm\"/><rect x=\"31mm\" y=\"4mm\" width=\"1mm\" height=\"1mm\"/><rect x=\"32mm\" y=\"4mm\" width=\"1mm\" height=\"1mm\"/><rect x=\"4mm\" y=\"5mm\" width=\"1mm\" height=\"1mm\"/><rect x=\"10mm\" y=\"5mm\" width=\"1mm\" height=\"1mm\"/><rect x=\"12mm\" y=\"5mm\" width=\"1mm\" height=\"1mm\"/><rect x=\"13mm\" y=\"5mm\" width=\"1mm\" height=\"1mm\"/><rect x=\"14mm\" y=\"5mm\" width=\"1mm\" height=\"1mm\"/><rect x=\"18mm\" y=\"5mm\" width=\"1mm\" height=\"1mm\"/><rect x=\"19mm\" y=\"5mm\" width=\"1mm\" height=\"1mm\"/><rect x=\"20mm\" y=\"5mm\" width=\"1mm\" height=\"1mm\"/><rect x=\"21mm\" y=\"5mm\" width=\"1mm\" height=\"1mm\"/><rect x=\"23mm\" y=\"5mm\" width=\"1mm\" height=\"1mm\"/><rect x=\"26mm\" y=\"5mm\" width=\"1mm\" height=\"1mm\"/><rect x=\"32mm\" y=\"5mm\" width=\"1mm\" height=\"1mm\"/><rect x=\"4mm\" y=\"6mm\" width=\"1mm\" height=\"1mm\"/><rect x=\"6mm\" y=\"6mm\" width=\"1mm\" height=\"1mm\"/><rect x=\"7mm\" y=\"6mm\" width=\"1mm\" height=\"1mm\"/><rect x=\"8mm\" y=\"6mm\" width=\"1mm\" height=\"1mm\"/><rect x=\"10mm\" y=\"6mm\" width=\"1mm\" height=\"1mm\"/><rect x=\"13mm\" y=\"6mm\" width=\"1mm\" height=\"1mm\"/><rect x=\"14mm\" y=\"6mm\" width=\"1mm\" height=\"1mm\"/><rect x=\"15mm\" y=\"6mm\" width=\"1mm\" height=\"1mm\"/><rect x=\"17mm\" y=\"6mm\" width=\"1mm\" height=\"1mm\"/><rect x=\"18mm\" y=\"6mm\" width=\"1mm\" height=\"1mm\"/><rect x=\"20mm\" y=\"6mm\" width=\"1mm\" height=\"1mm\"/><rect x=\"23mm\" y=\"6mm\" width=\"1mm\" height=\"1mm\"/><rect x=\"24mm\" y=\"6mm\" width=\"1mm\" height=\"1mm\"/><rect x=\"26mm\" y=\"6mm\" width=\"1mm\" height=\"1mm\"/><rect x=\"28mm\" y=\"6mm\" width=\"1mm\" height=\"1mm\"/><rect x=\"29mm\" y=\"6mm\" width=\"1mm\" height=\"1mm\"/><rect x=\"30mm\" y=\"6mm\" width=\"1mm\" height=\"1mm\"/><rect x=\"32mm\" y=\"6mm\" width=\"1mm\" height=\"1mm\"/><rect x=\"4mm\" y=\"7mm\" width=\"1mm\" height=\"1mm\"/><rect x=\"6mm\" y=\"7mm\" width=\"1mm\" height=\"1mm\"/><rect x=\"7mm\" y=\"7mm\" width=\"1mm\" height=\"1mm\"/><rect x=\"8mm\" y=\"7mm\" width=\"1mm\" height=\"1mm\"/><rect x=\"10mm\" y=\"7mm\" width=\"1mm\" height=\"1mm\"/><rect x=\"13mm\" y=\"7mm\" width=\"1mm\" height=\"1mm\"/><rect x=\"14mm\" y=\"7mm\" width=\"1mm\" height=\"1mm\"/><rect x=\"16mm\" y=\"7mm\" width=\"1mm\" height=\"1mm\"/><rect x=\"17mm\" y=\"7mm\" width=\"1mm\" height=\"1mm\"/><rect x=\"18mm\" y=\"7mm\" width=\"1mm\" height=\"1mm\"/><rect x=\"19mm\" y=\"7mm\" width=\"1mm\" height=\"1mm\"/><rect x=\"22mm\" y=\"7mm\" width=\"1mm\" height=\"1mm\"/><rect x=\"26mm\" y=\"7mm\" width=\"1mm\" height=\"1mm\"/><rect x=\"28mm\" y=\"7mm\" width=\"1mm\" height=\"1mm\"/><rect x=\"29mm\" y=\"7mm\" width=\"1mm\" height=\"1mm\"/><rect x=\"30mm\" y=\"7mm\" width=\"1mm\" height=\"1mm\"/><rect x=\"32mm\" y=\"7mm\" width=\"1mm\" height=\"1mm\"/><rect x=\"4mm\" y=\"8mm\" width=\"1mm\" height=\"1mm\"/><rect x=\"6mm\" y=\"8mm\" width=\"1mm\" height=\"1mm\"/><rect x=\"7mm\" y=\"8mm\" width=\"1mm\" height=\"1mm\"/><rect x=\"8mm\" y=\"8mm\" width=\"1mm\" height=\"1mm\"/><rect x=\"10mm\" y=\"8mm\" width=\"1mm\" height=\"1mm\"/><rect x=\"12mm\" y=\"8mm\" width=\"1mm\" height=\"1mm\"/><rect x=\"13mm\" y=\"8mm\" width=\"1mm\" height=\"1mm\"/><rect x=\"15mm\" y=\"8mm\" width=\"1mm\" height=\"1mm\"/><rect x=\"16mm\" y=\"8mm\" width=\"1mm\" height=\"1mm\"/><rect x=\"18mm\" y=\"8mm\" width=\"1mm\" height=\"1mm\"/><rect x=\"21mm\" y=\"8mm\" width=\"1mm\" height=\"1mm\"/><rect x=\"22mm\" y=\"8mm\" width=\"1mm\" height=\"1mm\"/><rect x=\"26mm\" y=\"8mm\" width=\"1mm\" height=\"1mm\"/><rect x=\"28mm\" y=\"8mm\" width=\"1mm\" height=\"1mm\"/><rect x=\"29mm\" y=\"8mm\" width=\"1mm\" height=\"1mm\"/><rect x=\"30mm\" y=\"8mm\" width=\"1mm\" height=\"1mm\"/><rect x=\"32mm\" y=\"8mm\" width=\"1mm\" height=\"1mm\"/><rect x=\"4mm\" y=\"9mm\" width=\"1mm\" height=\"1mm\"/><rect x=\"10mm\" y=\"9mm\" width=\"1mm\" height=\"1mm\"/><rect x=\"13mm\" y=\"9mm\" width=\"1mm\" height=\"1mm\"/><rect x=\"17mm\" y=\"9mm\" width=\"1mm\" height=\"1mm\"/><rect x=\"21mm\" y=\"9mm\" width=\"1mm\" height=\"1mm\"/><rect x=\"22mm\" y=\"9mm\" width=\"1mm\" height=\"1mm\"/><rect x=\"23mm\" y=\"9mm\" width=\"1mm\" height=\"1mm\"/><rect x=\"26mm\" y=\"9mm\" width=\"1mm\" height=\"1mm\"/><rect x=\"32mm\" y=\"9mm\" width=\"1mm\" height=\"1mm\"/><rect x=\"4mm\" y=\"10mm\" width=\"1mm\" height=\"1mm\"/><rect x=\"5mm\" y=\"10mm\" width=\"1mm\" height=\"1mm\"/><rect x=\"6mm\" y=\"10mm\" width=\"1mm\" height=\"1mm\"/><rect x=\"7mm\" y=\"10mm\" width=\"1mm\" height=\"1mm\"/><rect x=\"8mm\" y=\"10mm\" width=\"1mm\" height=\"1mm\"/><rect x=\"9mm\" y=\"10mm\" width=\"1mm\" height=\"1mm\"/><rect x=\"10mm\" y=\"10mm\" width=\"1mm\" height=\"1mm\"/><rect x=\"12mm\" y=\"10mm\" width=\"1mm\" height=\"1mm\"/><rect x=\"14mm\" y=\"10mm\" width=\"1mm\" height=\"1mm\"/><rect x=\"16mm\" y=\"10mm\" width=\"1mm\" height=\"1mm\"/><rect x=\"18mm\" y=\"10mm\" width=\"1mm\" height=\"1mm\"/><rect x=\"20mm\" y=\"10mm\" width=\"1mm\" height=\"1mm\"/><rect x=\"22mm\" y=\"10mm\" width=\"1mm\" height=\"1mm\"/><rect x=\"24mm\" y=\"10mm\" width=\"1mm\" height=\"1mm\"/><rect x=\"26mm\" y=\"10mm\" width=\"1mm\" height=\"1mm\"/><rect x=\"27mm\" y=\"10mm\" width=\"1mm\" height=\"1mm\"/><rect x=\"28mm\" y=\"10mm\" width=\"1mm\" height=\"1mm\"/><rect x=\"29mm\" y=\"10mm\" width=\"1mm\" height=\"1mm\"/><rect x=\"30mm\" y=\"10mm\" width=\"1mm\" height=\"1mm\"/><rect x=\"31mm\" y=\"10mm\" width=\"1mm\" height=\"1mm\"/><rect x=\"32mm\" y=\"10mm\" width=\"1mm\" height=\"1mm\"/><rect x=\"13mm\" y=\"11mm\" width=\"1mm\" height=\"1mm\"/><rect x=\"14mm\" y=\"11mm\" width=\"1mm\" height=\"1mm\"/><rect x=\"17mm\" y=\"11mm\" width=\"1mm\" height=\"1mm\"/><rect x=\"18mm\" y=\"11mm\" width=\"1mm\" height=\"1mm\"/><rect x=\"20mm\" y=\"11mm\" width=\"1mm\" height=\"1mm\"/><rect x=\"21mm\" y=\"11mm\" width=\"1mm\" height=\"1mm\"/><rect x=\"22mm\" y=\"11mm\" width=\"1mm\" height=\"1mm\"/><rect x=\"23mm\" y=\"11mm\" width=\"1mm\" height=\"1mm\"/><rect x=\"4mm\" y=\"12mm\" width=\"1mm\" height=\"1mm\"/><rect x=\"6mm\" y=\"12mm\" width=\"1mm\" height=\"1mm\"/><rect x=\"8mm\" y=\"12mm\" width=\"1mm\" height=\"1mm\"/><rect x=\"10mm\" y=\"12mm\" width=\"1mm\" height=\"1mm\"/><rect x=\"13mm\" y=\"12mm\" width=\"1mm\" height=\"1mm\"/><rect x=\"14mm\" y=\"12mm\" width=\"1mm\" height=\"1mm\"/><rect x=\"16mm\" y=\"12mm\" width=\"1mm\" height=\"1mm\"/><rect x=\"18mm\" y=\"12mm\" width=\"1mm\" height=\"1mm\"/><rect x=\"19mm\" y=\"12mm\" width=\"1mm\" height=\"1mm\"/><rect x=\"21mm\" y=\"12mm\" width=\"1mm\" height=\"1mm\"/><rect x=\"23mm\" y=\"12mm\" width=\"1mm\" height=\"1mm\"/><rect x=\"24mm\" y=\"12mm\" width=\"1mm\" height=\"1mm\"/><rect x=\"28mm\" y=\"12mm\" width=\"1mm\" height=\"1mm\"/><rect x=\"31mm\" y=\"12mm\" width=\"1mm\" height=\"1mm\"/><rect x=\"9mm\" y=\"13mm\" width=\"1mm\" height=\"1mm\"/><rect x=\"11mm\" y=\"13mm\" width=\"1mm\" height=\"1mm\"/><rect x=\"13mm\" y=\"13mm\" width=\"1mm\" height=\"1mm\"/><rect x=\"15mm\" y=\"13mm\" width=\"1mm\" height=\"1mm\"/><rect x=\"18mm\" y=\"13mm\" width=\"1mm\" height=\"1mm\"/><rect x=\"19mm\" y=\"13mm\" width=\"1mm\" height=\"1mm\"/><rect x=\"24mm\" y=\"13mm\" width=\"1mm\" height=\"1mm\"/><rect x=\"25mm\" y=\"13mm\" width=\"1mm\" height=\"1mm\"/><rect x=\"26mm\" y=\"13mm\" width=\"1mm\" height=\"1mm\"/><rect x=\"29mm\" y=\"13mm\" width=\"1mm\" height=\"1mm\"/><rect x=\"32mm\" y=\"13mm\" width=\"1mm\" height=\"1mm\"/><rect x=\"4mm\" y=\"14mm\" width=\"1mm\" height=\"1mm\"/><rect x=\"6mm\" y=\"14mm\" width=\"1mm\" height=\"1mm\"/><rect x=\"7mm\" y=\"14mm\" width=\"1mm\" height=\"1mm\"/><rect x=\"8mm\" y=\"14mm\" width=\"1mm\" height=\"1mm\"/><rect x=\"9mm\" y=\"14mm\" width=\"1mm\" height=\"1mm\"/><rect x=\"10mm\" y=\"14mm\" width=\"1mm\" height=\"1mm\"/><rect x=\"12mm\" y=\"14mm\" width=\"1mm\" height=\"1mm\"/><rect x=\"15mm\" y=\"14mm\" width=\"1mm\" height=\"1mm\"/><rect x=\"16mm\" y=\"14mm\" width=\"1mm\" height=\"1mm\"/><rect x=\"17mm\" y=\"14mm\" width=\"1mm\" height=\"1mm\"/><rect x=\"21mm\" y=\"14mm\" width=\"1mm\" height=\"1mm\"/><rect x=\"22mm\" y=\"14mm\" width=\"1mm\" height=\"1mm\"/><rect x=\"25mm\" y=\"14mm\" width=\"1mm\" height=\"1mm\"/><rect x=\"26mm\" y=\"14mm\" width=\"1mm\" height=\"1mm\"/><rect x=\"28mm\" y=\"14mm\" width=\"1mm\" height=\"1mm\"/><rect x=\"30mm\" y=\"14mm\" width=\"1mm\" height=\"1mm\"/><rect x=\"31mm\" y=\"14mm\" width=\"1mm\" height=\"1mm\"/><rect x=\"32mm\" y=\"14mm\" width=\"1mm\" height=\"1mm\"/><rect x=\"4mm\" y=\"15mm\" width=\"1mm\" height=\"1mm\"/><rect x=\"6mm\" y=\"15mm\" width=\"1mm\" height=\"1mm\"/><rect x=\"11mm\" y=\"15mm\" width=\"1mm\" height=\"1mm\"/><rect x=\"12mm\" y=\"15mm\" width=\"1mm\" height=\"1mm\"/><rect x=\"13mm\" y=\"15mm\" width=\"1mm\" height=\"1mm\"/><rect x=\"19mm\" y=\"15mm\" width=\"1mm\" height=\"1mm\"/><rect x=\"21mm\" y=\"15mm\" width=\"1mm\" height=\"1mm\"/><rect x=\"22mm\" y=\"15mm\" width=\"1mm\" height=\"1mm\"/><rect x=\"24mm\" y=\"15mm\" width=\"1mm\" height=\"1mm\"/><rect x=\"27mm\" y=\"15mm\" width=\"1mm\" height=\"1mm\"/><rect x=\"28mm\" y=\"15mm\" width=\"1mm\" height=\"1mm\"/><rect x=\"31mm\" y=\"15mm\" width=\"1mm\" height=\"1mm\"/><rect x=\"4mm\" y=\"16mm\" width=\"1mm\" height=\"1mm\"/><rect x=\"5mm\" y=\"16mm\" width=\"1mm\" height=\"1mm\"/><rect x=\"8mm\" y=\"16mm\" width=\"1mm\" height=\"1mm\"/><rect x=\"10mm\" y=\"16mm\" width=\"1mm\" height=\"1mm\"/><rect x=\"12mm\" y=\"16mm\" width=\"1mm\" height=\"1mm\"/><rect x=\"13mm\" y=\"16mm\" width=\"1mm\" height=\"1mm\"/><rect x=\"14mm\" y=\"16mm\" width=\"1mm\" height=\"1mm\"/><rect x=\"20mm\" y=\"16mm\" width=\"1mm\" height=\"1mm\"/><rect x=\"23mm\" y=\"16mm\" width=\"1mm\" height=\"1mm\"/><rect x=\"24mm\" y=\"16mm\" width=\"1mm\" height=\"1mm\"/><rect x=\"25mm\" y=\"16mm\" width=\"1mm\" height=\"1mm\"/><rect x=\"26mm\" y=\"16mm\" width=\"1mm\" height=\"1mm\"/><rect x=\"29mm\" y=\"16mm\" width=\"1mm\" height=\"1mm\"/><rect x=\"31mm\" y=\"16mm\" width=\"1mm\" height=\"1mm\"/><rect x=\"32mm\" y=\"16mm\" width=\"1mm\" height=\"1mm\"/><rect x=\"6mm\" y=\"17mm\" width=\"1mm\" height=\"1mm\"/><rect x=\"7mm\" y=\"17mm\" width=\"1mm\" height=\"1mm\"/><rect x=\"9mm\" y=\"17mm\" width=\"1mm\" height=\"1mm\"/><rect x=\"11mm\" y=\"17mm\" width=\"1mm\" height=\"1mm\"/><rect x=\"12mm\" y=\"17mm\" width=\"1mm\" height=\"1mm\"/><rect x=\"13mm\" y=\"17mm\" width=\"1mm\" height=\"1mm\"/><rect x=\"14mm\" y=\"17mm\" width=\"1mm\" height=\"1mm\"/><rect x=\"17mm\" y=\"17mm\" width=\"1mm\" height=\"1mm\"/><rect x=\"19mm\" y=\"17mm\" width=\"1mm\" height=\"1mm\"/><rect x=\"20mm\" y=\"17mm\" width=\"1mm\" height=\"1mm\"/><rect x=\"21mm\" y=\"17mm\" width=\"1mm\" height=\"1mm\"/><rect x=\"26mm\" y=\"17mm\" width=\"1mm\" height=\"1mm\"/><rect x=\"29mm\" y=\"17mm\" width=\"1mm\" height=\"1mm\"/><rect x=\"32mm\" y=\"17mm\" width=\"1mm\" height=\"1mm\"/><rect x=\"7mm\" y=\"18mm\" width=\"1mm\" height=\"1mm\"/><rect x=\"9mm\" y=\"18mm\" width=\"1mm\" height=\"1mm\"/><rect x=\"10mm\" y=\"18mm\" width=\"1mm\" height=\"1mm\"/><rect x=\"11mm\" y=\"18mm\" width=\"1mm\" height=\"1mm\"/><rect x=\"14mm\" y=\"18mm\" width=\"1mm\" height=\"1mm\"/><rect x=\"16mm\" y=\"18mm\" width=\"1mm\" height=\"1mm\"/><rect x=\"18mm\" y=\"18mm\" width=\"1mm\" height=\"1mm\"/><rect x=\"19mm\" y=\"18mm\" width=\"1mm\" height=\"1mm\"/><rect x=\"20mm\" y=\"18mm\" width=\"1mm\" height=\"1mm\"/><rect x=\"21mm\" y=\"18mm\" width=\"1mm\" height=\"1mm\"/><rect x=\"26mm\" y=\"18mm\" width=\"1mm\" height=\"1mm\"/><rect x=\"27mm\" y=\"18mm\" width=\"1mm\" height=\"1mm\"/><rect x=\"29mm\" y=\"18mm\" width=\"1mm\" height=\"1mm\"/><rect x=\"31mm\" y=\"18mm\" width=\"1mm\" height=\"1mm\"/><rect x=\"32mm\" y=\"18mm\" width=\"1mm\" height=\"1mm\"/><rect x=\"5mm\" y=\"19mm\" width=\"1mm\" height=\"1mm\"/><rect x=\"7mm\" y=\"19mm\" width=\"1mm\" height=\"1mm\"/><rect x=\"8mm\" y=\"19mm\" width=\"1mm\" height=\"1mm\"/><rect x=\"11mm\" y=\"19mm\" width=\"1mm\" height=\"1mm\"/><rect x=\"13mm\" y=\"19mm\" width=\"1mm\" height=\"1mm\"/><rect x=\"14mm\" y=\"19mm\" width=\"1mm\" height=\"1mm\"/><rect x=\"15mm\" y=\"19mm\" width=\"1mm\" height=\"1mm\"/><rect x=\"17mm\" y=\"19mm\" width=\"1mm\" height=\"1mm\"/><rect x=\"18mm\" y=\"19mm\" width=\"1mm\" height=\"1mm\"/><rect x=\"20mm\" y=\"19mm\" width=\"1mm\" height=\"1mm\"/><rect x=\"21mm\" y=\"19mm\" width=\"1mm\" height=\"1mm\"/><rect x=\"22mm\" y=\"19mm\" width=\"1mm\" height=\"1mm\"/><rect x=\"24mm\" y=\"19mm\" width=\"1mm\" height=\"1mm\"/><rect x=\"26mm\" y=\"19mm\" width=\"1mm\" height=\"1mm\"/><rect x=\"27mm\" y=\"19mm\" width=\"1mm\" height=\"1mm\"/><rect x=\"29mm\" y=\"19mm\" width=\"1mm\" height=\"1mm\"/><rect x=\"31mm\" y=\"19mm\" width=\"1mm\" height=\"1mm\"/><rect x=\"4mm\" y=\"20mm\" width=\"1mm\" height=\"1mm\"/><rect x=\"5mm\" y=\"20mm\" width=\"1mm\" height=\"1mm\"/><rect x=\"8mm\" y=\"20mm\" width=\"1mm\" height=\"1mm\"/><rect x=\"9mm\" y=\"20mm\" width=\"1mm\" height=\"1mm\"/><rect x=\"10mm\" y=\"20mm\" width=\"1mm\" height=\"1mm\"/><rect x=\"11mm\" y=\"20mm\" width=\"1mm\" height=\"1mm\"/><rect x=\"12mm\" y=\"20mm\" width=\"1mm\" height=\"1mm\"/><rect x=\"14mm\" y=\"20mm\" width=\"1mm\" height=\"1mm\"/><rect x=\"18mm\" y=\"20mm\" width=\"1mm\" height=\"1mm\"/><rect x=\"19mm\" y=\"20mm\" width=\"1mm\" height=\"1mm\"/><rect x=\"21mm\" y=\"20mm\" width=\"1mm\" height=\"1mm\"/><rect x=\"22mm\" y=\"20mm\" width=\"1mm\" height=\"1mm\"/><rect x=\"24mm\" y=\"20mm\" width=\"1mm\" height=\"1mm\"/><rect x=\"25mm\" y=\"20mm\" width=\"1mm\" height=\"1mm\"/><rect x=\"26mm\" y=\"20mm\" width=\"1mm\" height=\"1mm\"/><rect x=\"29mm\" y=\"20mm\" width=\"1mm\" height=\"1mm\"/><rect x=\"31mm\" y=\"20mm\" width=\"1mm\" height=\"1mm\"/><rect x=\"32mm\" y=\"20mm\" width=\"1mm\" height=\"1mm\"/><rect x=\"5mm\" y=\"21mm\" width=\"1mm\" height=\"1mm\"/><rect x=\"7mm\" y=\"21mm\" width=\"1mm\" height=\"1mm\"/><rect x=\"8mm\" y=\"21mm\" width=\"1mm\" height=\"1mm\"/><rect x=\"12mm\" y=\"21mm\" width=\"1mm\" height=\"1mm\"/><rect x=\"13mm\" y=\"21mm\" width=\"1mm\" height=\"1mm\"/><rect x=\"15mm\" y=\"21mm\" width=\"1mm\" height=\"1mm\"/><rect x=\"16mm\" y=\"21mm\" width=\"1mm\" height=\"1mm\"/><rect x=\"18mm\" y=\"21mm\" width=\"1mm\" height=\"1mm\"/><rect x=\"19mm\" y=\"21mm\" width=\"1mm\" height=\"1mm\"/><rect x=\"22mm\" y=\"21mm\" width=\"1mm\" height=\"1mm\"/><rect x=\"24mm\" y=\"21mm\" width=\"1mm\" height=\"1mm\"/><rect x=\"26mm\" y=\"21mm\" width=\"1mm\" height=\"1mm\"/><rect x=\"29mm\" y=\"21mm\" width=\"1mm\" height=\"1mm\"/><rect x=\"30mm\" y=\"21mm\" width=\"1mm\" height=\"1mm\"/><rect x=\"32mm\" y=\"21mm\" width=\"1mm\" height=\"1mm\"/><rect x=\"4mm\" y=\"22mm\" width=\"1mm\" height=\"1mm\"/><rect x=\"6mm\" y=\"22mm\" width=\"1mm\" height=\"1mm\"/><rect x=\"7mm\" y=\"22mm\" width=\"1mm\" height=\"1mm\"/><rect x=\"10mm\" y=\"22mm\" width=\"1mm\" height=\"1mm\"/><rect x=\"11mm\" y=\"22mm\" width=\"1mm\" height=\"1mm\"/><rect x=\"13mm\" y=\"22mm\" width=\"1mm\" height=\"1mm\"/><rect x=\"15mm\" y=\"22mm\" width=\"1mm\" height=\"1mm\"/><rect x=\"17mm\" y=\"22mm\" width=\"1mm\" height=\"1mm\"/><rect x=\"22mm\" y=\"22mm\" width=\"1mm\" height=\"1mm\"/><rect x=\"24mm\" y=\"22mm\" width=\"1mm\" height=\"1mm\"/><rect x=\"26mm\" y=\"22mm\" width=\"1mm\" height=\"1mm\"/><rect x=\"27mm\" y=\"22mm\" width=\"1mm\" height=\"1mm\"/><rect x=\"28mm\" y=\"22mm\" width=\"1mm\" height=\"1mm\"/><rect x=\"31mm\" y=\"22mm\" width=\"1mm\" height=\"1mm\"/><rect x=\"32mm\" y=\"22mm\" width=\"1mm\" height=\"1mm\"/><rect x=\"5mm\" y=\"23mm\" width=\"1mm\" height=\"1mm\"/><rect x=\"6mm\" y=\"23mm\" width=\"1mm\" height=\"1mm\"/><rect x=\"7mm\" y=\"23mm\" width=\"1mm\" height=\"1mm\"/><rect x=\"13mm\" y=\"23mm\" width=\"1mm\" height=\"1mm\"/><rect x=\"14mm\" y=\"23mm\" width=\"1mm\" height=\"1mm\"/><rect x=\"16mm\" y=\"23mm\" width=\"1mm\" height=\"1mm\"/><rect x=\"19mm\" y=\"23mm\" width=\"1mm\" height=\"1mm\"/><rect x=\"21mm\" y=\"23mm\" width=\"1mm\" height=\"1mm\"/><rect x=\"26mm\" y=\"23mm\" width=\"1mm\" height=\"1mm\"/><rect x=\"27mm\" y=\"23mm\" width=\"1mm\" height=\"1mm\"/><rect x=\"28mm\" y=\"23mm\" width=\"1mm\" height=\"1mm\"/><rect x=\"29mm\" y=\"23mm\" width=\"1mm\" height=\"1mm\"/><rect x=\"31mm\" y=\"23mm\" width=\"1mm\" height=\"1mm\"/><rect x=\"4mm\" y=\"24mm\" width=\"1mm\" height=\"1mm\"/><rect x=\"10mm\" y=\"24mm\" width=\"1mm\" height=\"1mm\"/><rect x=\"11mm\" y=\"24mm\" width=\"1mm\" height=\"1mm\"/><rect x=\"20mm\" y=\"24mm\" width=\"1mm\" height=\"1mm\"/><rect x=\"21mm\" y=\"24mm\" width=\"1mm\" height=\"1mm\"/><rect x=\"22mm\" y=\"24mm\" width=\"1mm\" height=\"1mm\"/><rect x=\"24mm\" y=\"24mm\" width=\"1mm\" height=\"1mm\"/><rect x=\"25mm\" y=\"24mm\" width=\"1mm\" height=\"1mm\"/><rect x=\"26mm\" y=\"24mm\" width=\"1mm\" height=\"1mm\"/><rect x=\"27mm\" y=\"24mm\" width=\"1mm\" height=\"1mm\"/><rect x=\"28mm\" y=\"24mm\" width=\"1mm\" height=\"1mm\"/><rect x=\"12mm\" y=\"25mm\" width=\"1mm\" height=\"1mm\"/><rect x=\"17mm\" y=\"25mm\" width=\"1mm\" height=\"1mm\"/><rect x=\"19mm\" y=\"25mm\" width=\"1mm\" height=\"1mm\"/><rect x=\"20mm\" y=\"25mm\" width=\"1mm\" height=\"1mm\"/><rect x=\"21mm\" y=\"25mm\" width=\"1mm\" height=\"1mm\"/><rect x=\"22mm\" y=\"25mm\" width=\"1mm\" height=\"1mm\"/><rect x=\"24mm\" y=\"25mm\" width=\"1mm\" height=\"1mm\"/><rect x=\"28mm\" y=\"25mm\" width=\"1mm\" height=\"1mm\"/><rect x=\"30mm\" y=\"25mm\" width=\"1mm\" height=\"1mm\"/><rect x=\"31mm\" y=\"25mm\" width=\"1mm\" height=\"1mm\"/><rect x=\"32mm\" y=\"25mm\" width=\"1mm\" height=\"1mm\"/><rect x=\"4mm\" y=\"26mm\" width=\"1mm\" height=\"1mm\"/><rect x=\"5mm\" y=\"26mm\" width=\"1mm\" height=\"1mm\"/><rect x=\"6mm\" y=\"26mm\" width=\"1mm\" height=\"1mm\"/><rect x=\"7mm\" y=\"26mm\" width=\"1mm\" height=\"1mm\"/><rect x=\"8mm\" y=\"26mm\" width=\"1mm\" height=\"1mm\"/><rect x=\"9mm\" y=\"26mm\" width=\"1mm\" height=\"1mm\"/><rect x=\"10mm\" y=\"26mm\" width=\"1mm\" height=\"1mm\"/><rect x=\"14mm\" y=\"26mm\" width=\"1mm\" height=\"1mm\"/><rect x=\"15mm\" y=\"26mm\" width=\"1mm\" height=\"1mm\"/><rect x=\"16mm\" y=\"26mm\" width=\"1mm\" height=\"1mm\"/><rect x=\"18mm\" y=\"26mm\" width=\"1mm\" height=\"1mm\"/><rect x=\"19mm\" y=\"26mm\" width=\"1mm\" height=\"1mm\"/><rect x=\"20mm\" y=\"26mm\" width=\"1mm\" height=\"1mm\"/><rect x=\"23mm\" y=\"26mm\" width=\"1mm\" height=\"1mm\"/><rect x=\"24mm\" y=\"26mm\" width=\"1mm\" height=\"1mm\"/><rect x=\"26mm\" y=\"26mm\" width=\"1mm\" height=\"1mm\"/><rect x=\"28mm\" y=\"26mm\" width=\"1mm\" height=\"1mm\"/><rect x=\"29mm\" y=\"26mm\" width=\"1mm\" height=\"1mm\"/><rect x=\"31mm\" y=\"26mm\" width=\"1mm\" height=\"1mm\"/><rect x=\"32mm\" y=\"26mm\" width=\"1mm\" height=\"1mm\"/><rect x=\"4mm\" y=\"27mm\" width=\"1mm\" height=\"1mm\"/><rect x=\"10mm\" y=\"27mm\" width=\"1mm\" height=\"1mm\"/><rect x=\"13mm\" y=\"27mm\" width=\"1mm\" height=\"1mm\"/><rect x=\"14mm\" y=\"27mm\" width=\"1mm\" height=\"1mm\"/><rect x=\"15mm\" y=\"27mm\" width=\"1mm\" height=\"1mm\"/><rect x=\"16mm\" y=\"27mm\" width=\"1mm\" height=\"1mm\"/><rect x=\"17mm\" y=\"27mm\" width=\"1mm\" height=\"1mm\"/><rect x=\"18mm\" y=\"27mm\" width=\"1mm\" height=\"1mm\"/><rect x=\"20mm\" y=\"27mm\" width=\"1mm\" height=\"1mm\"/><rect x=\"21mm\" y=\"27mm\" width=\"1mm\" height=\"1mm\"/><rect x=\"24mm\" y=\"27mm\" width=\"1mm\" height=\"1mm\"/><rect x=\"28mm\" y=\"27mm\" width=\"1mm\" height=\"1mm\"/><rect x=\"29mm\" y=\"27mm\" width=\"1mm\" height=\"1mm\"/><rect x=\"31mm\" y=\"27mm\" width=\"1mm\" height=\"1mm\"/><rect x=\"4mm\" y=\"28mm\" width=\"1mm\" height=\"1mm\"/><rect x=\"6mm\" y=\"28mm\" width=\"1mm\" height=\"1mm\"/><rect x=\"7mm\" y=\"28mm\" width=\"1mm\" height=\"1mm\"/><rect x=\"8mm\" y=\"28mm\" width=\"1mm\" height=\"1mm\"/><rect x=\"10mm\" y=\"28mm\" width=\"1mm\" height=\"1mm\"/><rect x=\"12mm\" y=\"28mm\" width=\"1mm\" height=\"1mm\"/><rect x=\"14mm\" y=\"28mm\" width=\"1mm\" height=\"1mm\"/><rect x=\"15mm\" y=\"28mm\" width=\"1mm\" height=\"1mm\"/><rect x=\"18mm\" y=\"28mm\" width=\"1mm\" height=\"1mm\"/><rect x=\"19mm\" y=\"28mm\" width=\"1mm\" height=\"1mm\"/><rect x=\"22mm\" y=\"28mm\" width=\"1mm\" height=\"1mm\"/><rect x=\"24mm\" y=\"28mm\" width=\"1mm\" height=\"1mm\"/><rect x=\"25mm\" y=\"28mm\" width=\"1mm\" height=\"1mm\"/><rect x=\"26mm\" y=\"28mm\" width=\"1mm\" height=\"1mm\"/><rect x=\"27mm\" y=\"28mm\" width=\"1mm\" height=\"1mm\"/><rect x=\"28mm\" y=\"28mm\" width=\"1mm\" height=\"1mm\"/><rect x=\"31mm\" y=\"28mm\" width=\"1mm\" height=\"1mm\"/><rect x=\"4mm\" y=\"29mm\" width=\"1mm\" height=\"1mm\"/><rect x=\"6mm\" y=\"29mm\" width=\"1mm\" height=\"1mm\"/><rect x=\"7mm\" y=\"29mm\" width=\"1mm\" height=\"1mm\"/><rect x=\"8mm\" y=\"29mm\" width=\"1mm\" height=\"1mm\"/><rect x=\"10mm\" y=\"29mm\" width=\"1mm\" height=\"1mm\"/><rect x=\"14mm\" y=\"29mm\" width=\"1mm\" height=\"1mm\"/><rect x=\"18mm\" y=\"29mm\" width=\"1mm\" height=\"1mm\"/><rect x=\"19mm\" y=\"29mm\" width=\"1mm\" height=\"1mm\"/><rect x=\"24mm\" y=\"29mm\" width=\"1mm\" height=\"1mm\"/><rect x=\"25mm\" y=\"29mm\" width=\"1mm\" height=\"1mm\"/><rect x=\"27mm\" y=\"29mm\" width=\"1mm\" height=\"1mm\"/><rect x=\"28mm\" y=\"29mm\" width=\"1mm\" height=\"1mm\"/><rect x=\"30mm\" y=\"29mm\" width=\"1mm\" height=\"1mm\"/><rect x=\"4mm\" y=\"30mm\" width=\"1mm\" height=\"1mm\"/><rect x=\"6mm\" y=\"30mm\" width=\"1mm\" height=\"1mm\"/><rect x=\"7mm\" y=\"30mm\" width=\"1mm\" height=\"1mm\"/><rect x=\"8mm\" y=\"30mm\" width=\"1mm\" height=\"1mm\"/><rect x=\"10mm\" y=\"30mm\" width=\"1mm\" height=\"1mm\"/><rect x=\"12mm\" y=\"30mm\" width=\"1mm\" height=\"1mm\"/><rect x=\"13mm\" y=\"30mm\" width=\"1mm\" height=\"1mm\"/><rect x=\"14mm\" y=\"30mm\" width=\"1mm\" height=\"1mm\"/><rect x=\"15mm\" y=\"30mm\" width=\"1mm\" height=\"1mm\"/><rect x=\"17mm\" y=\"30mm\" width=\"1mm\" height=\"1mm\"/><rect x=\"18mm\" y=\"30mm\" width=\"1mm\" height=\"1mm\"/><rect x=\"21mm\" y=\"30mm\" width=\"1mm\" height=\"1mm\"/><rect x=\"23mm\" y=\"30mm\" width=\"1mm\" height=\"1mm\"/><rect x=\"27mm\" y=\"30mm\" width=\"1mm\" height=\"1mm\"/><rect x=\"28mm\" y=\"30mm\" width=\"1mm\" height=\"1mm\"/><rect x=\"29mm\" y=\"30mm\" width=\"1mm\" height=\"1mm\"/><rect x=\"32mm\" y=\"30mm\" width=\"1mm\" height=\"1mm\"/><rect x=\"4mm\" y=\"31mm\" width=\"1mm\" height=\"1mm\"/><rect x=\"10mm\" y=\"31mm\" width=\"1mm\" height=\"1mm\"/><rect x=\"13mm\" y=\"31mm\" width=\"1mm\" height=\"1mm\"/><rect x=\"14mm\" y=\"31mm\" width=\"1mm\" height=\"1mm\"/><rect x=\"19mm\" y=\"31mm\" width=\"1mm\" height=\"1mm\"/><rect x=\"23mm\" y=\"31mm\" width=\"1mm\" height=\"1mm\"/><rect x=\"24mm\" y=\"31mm\" width=\"1mm\" height=\"1mm\"/><rect x=\"26mm\" y=\"31mm\" width=\"1mm\" height=\"1mm\"/><rect x=\"27mm\" y=\"31mm\" width=\"1mm\" height=\"1mm\"/><rect x=\"31mm\" y=\"31mm\" width=\"1mm\" height=\"1mm\"/><rect x=\"4mm\" y=\"32mm\" width=\"1mm\" height=\"1mm\"/><rect x=\"5mm\" y=\"32mm\" width=\"1mm\" height=\"1mm\"/><rect x=\"6mm\" y=\"32mm\" width=\"1mm\" height=\"1mm\"/><rect x=\"7mm\" y=\"32mm\" width=\"1mm\" height=\"1mm\"/><rect x=\"8mm\" y=\"32mm\" width=\"1mm\" height=\"1mm\"/><rect x=\"9mm\" y=\"32mm\" width=\"1mm\" height=\"1mm\"/><rect x=\"10mm\" y=\"32mm\" width=\"1mm\" height=\"1mm\"/><rect x=\"12mm\" y=\"32mm\" width=\"1mm\" height=\"1mm\"/><rect x=\"13mm\" y=\"32mm\" width=\"1mm\" height=\"1mm\"/><rect x=\"15mm\" y=\"32mm\" width=\"1mm\" height=\"1mm\"/><rect x=\"18mm\" y=\"32mm\" width=\"1mm\" height=\"1mm\"/><rect x=\"20mm\" y=\"32mm\" width=\"1mm\" height=\"1mm\"/><rect x=\"23mm\" y=\"32mm\" width=\"1mm\" height=\"1mm\"/><rect x=\"24mm\" y=\"32mm\" width=\"1mm\" height=\"1mm\"/><rect x=\"27mm\" y=\"32mm\" width=\"1mm\" height=\"1mm\"/><rect x=\"31mm\" y=\"32mm\" width=\"1mm\" height=\"1mm\"/><rect x=\"32mm\" y=\"32mm\" width=\"1mm\" height=\"1mm\"/></svg>",
      "text/plain": [
       "<IPython.core.display.SVG object>"
      ]
     },
     "metadata": {},
     "output_type": "display_data"
    },
    {
     "data": {
      "text/plain": [
       "(False,\n",
       " 'Checkmate: Black win!',\n",
       " Board('r3k2r/p1pp1p1p/p7/8/8/P1b1P3/2q2PbP/4K1NR w kq - 0 15'))"
      ]
     },
     "execution_count": 11,
     "metadata": {},
     "output_type": "execute_result"
    }
   ],
   "source": [
    "import chess\n",
    "import chess.engine\n",
    "import chess.pgn\n",
    "import time\n",
    "import collections\n",
    "import random\n",
    "import requests\n",
    "import qrcode\n",
    "import qrcode.image.svg\n",
    "import json\n",
    "import math\n",
    "\n",
    "from numpy import interp\n",
    "from IPython.display import display, SVG, HTML, clear_output\n",
    "\n",
    "import_game_url = \"https://lichess.org/api/import\"\n",
    "\n",
    "engine = chess.engine.SimpleEngine.popen_uci(\"/usr/games/stockfish\")\n",
    "limit = chess.engine.Limit(time=0.1)\n",
    "\n",
    "emoji_list = [\n",
    "                \"&#128561\",\n",
    "                \"&#128552\",\n",
    "                \"&#128546\",\n",
    "                \"&#128534\",\n",
    "                \"&#128533\",\n",
    "                \"&#128528\",\n",
    "                \"&#128578\",\n",
    "                \"&#128512\", \n",
    "                \"&#128513\",\n",
    "                \"&#128514\",\n",
    "                \"&#128526\",\n",
    "            ]\n",
    "\n",
    "def get_emoji_from_valuation(valuation):\n",
    "  mate_score = 50000\n",
    "  value = valuation.score(mate_score=mate_score)\n",
    "\n",
    "  if value > 2000:\n",
    "    return emoji_list[0]\n",
    "  if value > 1000:\n",
    "    return emoji_list[1]\n",
    "  if value > 500:\n",
    "    return emoji_list[2]\n",
    "  if value > 200:\n",
    "    return emoji_list[3]\n",
    "  if value > 99:\n",
    "    return emoji_list[5]\n",
    "  elif value < -2000:\n",
    "    return emoji_list[-1]\n",
    "  elif value < -1000:\n",
    "    return emoji_list[-2]\n",
    "  elif value < -500:\n",
    "    return emoji_list[-3]\n",
    "  elif value < -200:\n",
    "    return emoji_list[-4]\n",
    "  elif value < -99:\n",
    "    return emoji_list[-5]\n",
    "  else:\n",
    "    return emoji_list[5]\n",
    "\n",
    "\n",
    "def random_player(board):\n",
    "  move = random.choice(list(board.legal_moves))\n",
    "  return move.uci()\n",
    "\n",
    "def get_move(prompt):\n",
    "    uci = input(prompt)\n",
    "    if uci and uci[0] == \"q\":\n",
    "        raise KeyboardInterrupt()\n",
    "    try:\n",
    "        chess.Move.from_uci(uci)\n",
    "    except:\n",
    "        uci = None\n",
    "    return uci\n",
    "\n",
    "def human_player(board):\n",
    "    display(board)\n",
    "    uci = get_move(\"%s's move [q to quit]> \" % who(board.turn))\n",
    "    legal_uci_moves = [move.uci() for move in board.legal_moves]\n",
    "    while uci not in legal_uci_moves:\n",
    "        print(\"Legal moves: \" + (\",\".join(sorted(legal_uci_moves))))\n",
    "        uci = get_move(\"%s's move[q to quit]> \" % who(board.turn))\n",
    "    return uci\n",
    "\n",
    "def who(player):\n",
    "  return \"White\" if player == chess.WHITE else \"Black\"\n",
    "\n",
    "def display_board(board, use_svg):\n",
    "    if use_svg:\n",
    "      return board._repr_svg_()\n",
    "    else:\n",
    "      return \"<pre>\" + str(board) + \"</pre>\"\n",
    "\n",
    "def get_valuation(board):\n",
    "  return engine.analyse(board, limit)\n",
    "\n",
    "def create_pgn_from_board(board):\n",
    "  game = chess.pgn.Game()\n",
    "\n",
    "  # Undo all moves\n",
    "  switchyard = collections.deque()\n",
    "  while board.move_stack:\n",
    "    switchyard.append(board.pop())\n",
    "  \n",
    "  game.setup(board)\n",
    "  node = game\n",
    "\n",
    "  # Replay all moves\n",
    "  while switchyard:\n",
    "    move = switchyard.pop()\n",
    "    node = node.add_variation(move)\n",
    "    board.push(move)\n",
    "  \n",
    "  game.headers[\"Result\"] = board.result()\n",
    "  return game\n",
    "\n",
    "def play_game(player1, player2, visual=\"svg\", pause=0.1):\n",
    "  use_svg = (visual == \"svg\")\n",
    "  board = chess.Board()\n",
    "\n",
    "  try:\n",
    "    while not board.is_game_over(claim_draw=True):\n",
    "      if board.turn == chess.WHITE:\n",
    "        uci = player1(board)\n",
    "      else:\n",
    "        uci = player2(board)\n",
    "      name = who(board.turn)\n",
    "      raw_valuation = get_valuation(board)\n",
    "      valuation = get_valuation(board)['score'].pov(chess.WHITE)\n",
    "      board.push_uci(uci)\n",
    "      board_stop = display_board(board, use_svg)\n",
    "      \n",
    "      black_status = get_emoji_from_valuation(raw_valuation['score'].pov(chess.WHITE))\n",
    "      white_status = get_emoji_from_valuation(raw_valuation['score'].pov(chess.BLACK))\n",
    "\n",
    "      html = '<b>Move: %s %s</br>Play %s</br>Evaluation: %s</br> <p style=\"font-size:60px;margin:-4px 0 -4px 0px\">%s</p> </br>%s</b><br/><p style=\"font-size:60px;margin:-4px 0 -4px 0px\">%s</p>' % (\n",
    "        len(board.move_stack), name, uci, valuation, black_status, board_stop, white_status\n",
    "      )\n",
    "      if visual is not None:\n",
    "        if visual == \"svg\":\n",
    "          clear_output(wait=True)\n",
    "        display(HTML(html))\n",
    "        if visual == \"svg\":\n",
    "          time.sleep(pause)\n",
    "  except KeyboardInterrupt:\n",
    "    msg = \"Game interrupted!\"\n",
    "    return (None, msg, board)\n",
    "  result = None\n",
    "  if board.is_checkmate():\n",
    "    msg = \"Checkmate: \" + who(not board.turn) + \" win!\"\n",
    "    result = not board.turn\n",
    "  elif board.is_stalemate():\n",
    "        msg = \"Draw: stalemate\"\n",
    "  elif board.is_fivefold_repetition():\n",
    "      msg = \"Draw: 5-fold repetition\"\n",
    "  elif board.is_insufficient_material():\n",
    "      msg = \"Draw: insufficient material\"\n",
    "  elif board.can_claim_draw():\n",
    "      msg = \"Draw: claim\"\n",
    "  if visual is not None:\n",
    "      print(msg)\n",
    "\n",
    "  pgn = create_pgn_from_board(board)\n",
    "\n",
    "  lichess_link = \"\"\n",
    "  lichess_content_json = \"\"\n",
    "  try:\n",
    "    data = {'pgn': pgn}\n",
    "    r = requests.post(import_game_url, data=data)\n",
    "    lichess_content_json = r.content.decode(\"utf-8\")\n",
    "  except:\n",
    "    print(\"Failed to import game to lichess\")\n",
    "    \n",
    "\n",
    "  json_obj = json.loads(lichess_content_json)\n",
    "  lichess_link = json_obj['url']\n",
    "  print(lichess_link)\n",
    "\n",
    "  qr_code = qrcode.make(lichess_link, image_factory=qrcode.image.svg.SvgImage)\n",
    "  qr_code.save(\"generated/qrcode.svg\")\n",
    "  display(SVG(\"generated/qrcode.svg\"))\n",
    "\n",
    "  return (result, msg, board)\n",
    "\n",
    "def staticAnalysis(board, move, my_color):\n",
    "    score = random.random()\n",
    "    ## Check some things about this move:\n",
    "    # score += 10 if board.is_capture(move) else 0\n",
    "    # To actually make the move:\n",
    "    board.push(move)\n",
    "    # Now check some other things:\n",
    "    for (piece, value) in [(chess.PAWN, 1), \n",
    "                           (chess.BISHOP, 3), \n",
    "                           (chess.KING, 0), \n",
    "                           (chess.QUEEN, 9), \n",
    "                           (chess.KNIGHT, 3),\n",
    "                           (chess.ROOK, 5)]:\n",
    "        score += len(board.pieces(piece, my_color)) * value\n",
    "        score -= len(board.pieces(piece, not my_color)) * value\n",
    "        # can also check things about the pieces position here\n",
    "    # Check global things about the board\n",
    "    score += 100 if board.is_checkmate() else 0\n",
    "    return score\n",
    "\n",
    "def player1(board):\n",
    "    moves = list(board.legal_moves)\n",
    "    for move in moves:\n",
    "        newboard = board.copy()\n",
    "        # go through board and return a score\n",
    "        move.score = staticAnalysis(newboard, move, board.turn)\n",
    "    moves.sort(key=lambda move: move.score, reverse=True) # sort on score\n",
    "    return moves[0].uci()\n",
    "\n",
    "def engine_player(board):\n",
    "  result = engine.play(board, limit)\n",
    "  return result.move.uci()\n",
    "\n",
    "play_game(player1, engine_player)"
   ]
  },
  {
   "cell_type": "code",
   "execution_count": 12,
   "metadata": {},
   "outputs": [
    {
     "name": "stdout",
     "output_type": "stream",
     "text": [
      "[Event \"Rated Blitz game\"]\n",
      "[Site \"https://lichess.org/OHrEqFV8\"]\n",
      "[Date \"2022.04.13\"]\n",
      "[White \"aufdiebergen\"]\n",
      "[Black \"Marrespratt\"]\n",
      "[Result \"0-1\"]\n",
      "[UTCDate \"2022.04.13\"]\n",
      "[UTCTime \"16:42:01\"]\n",
      "[WhiteElo \"1448\"]\n",
      "[BlackElo \"1447\"]\n",
      "[WhiteRatingDiff \"-5\"]\n",
      "[BlackRatingDiff \"+39\"]\n",
      "[Variant \"Standard\"]\n",
      "[TimeControl \"180+0\"]\n",
      "[ECO \"B10\"]\n",
      "[Opening \"Caro-Kann Defense: Breyer Variation\"]\n",
      "[Termination \"Time forfeit\"]\n",
      "\n",
      "1. e4 { [%eval 0.33] [%clk 0:03:00] } 1... c6 { [%eval 0.56] [%clk 0:03:00] } 2. d3 { [%eval 0.14] [%clk 0:02:59] } 2... d5 { [%eval 0.32] [%clk 0:02:59] } 3. Qf3 { [%eval -0.53] [%clk 0:02:55] } 3... Nf6 { [%eval 0.28] [%clk 0:02:51] } 4. e5 { [%eval 0.28] [%clk 0:02:48] } 4... Nfd7 { [%eval 0.39] [%clk 0:02:50] } 5. d4 { [%eval -0.19] [%clk 0:02:46] } 5... c5 { [%eval 0.43] [%clk 0:02:49] } 6. c3 { [%eval -0.04] [%clk 0:02:45] } 6... Nc6 { [%eval 0.16] [%clk 0:02:44] } 7. Nh3 { [%eval -3.15] [%clk 0:02:34] } 7... cxd4 { [%eval -3.11] [%clk 0:02:42] } 8. Ng5 { [%eval -5.32] [%clk 0:02:28] } 8... Ndxe5 { [%eval -5.46] [%clk 0:02:33] } 9. Qf4 { [%eval -7.06] [%clk 0:02:17] } 9... f6 { [%eval -6.54] [%clk 0:02:18] } 10. Nh3 { [%eval -7.93] [%clk 0:02:05] } 10... dxc3 { [%eval -7.84] [%clk 0:02:14] } 11. Nxc3 { [%eval -8.3] [%clk 0:02:01] } 11... Be6 { [%eval -5.71] [%clk 0:02:02] } 12. Bb5 { [%eval -8.11] [%clk 0:01:45] } 12... Qb6 { [%eval -4.65] [%clk 0:01:56] } 13. Be3 { [%eval -4.75] [%clk 0:01:31] } 13... Qc7 { [%eval -3.36] [%clk 0:01:43] } 14. O-O { [%eval -3.96] [%clk 0:01:21] } 14... a6 { [%eval -3.54] [%clk 0:01:41] } 15. Bxc6+ { [%eval -4.32] [%clk 0:01:19] } 15... Qxc6 { [%eval -4.07] [%clk 0:01:38] } 16. Rac1 { [%eval -6.15] [%clk 0:01:14] } 16... g5 { [%eval -2.52] [%clk 0:01:30] } 17. Qb4 { [%eval -6.8] [%clk 0:01:06] } 17... Nd3 { [%eval -5.52] [%clk 0:01:15] } 18. Qa4 { [%eval -8.31] [%clk 0:00:51] } 18... Qxa4 { [%eval -8.09] [%clk 0:01:10] } 19. Nxa4 { [%eval -8.07] [%clk 0:00:49] } 19... Nxc1 { [%eval -8.07] [%clk 0:01:07] } 20. Rxc1 { [%eval -8.22] [%clk 0:00:49] } 20... Bg7 { [%eval -8.0] [%clk 0:01:02] } 0-1\n",
      "\n",
      "\n",
      "[Event \"Rated Blitz game\"]\n",
      "[Site \"https://lichess.org/8Sjgn5Vc\"]\n",
      "[Date \"2022.04.13\"]\n",
      "[White \"Marrespratt\"]\n",
      "[Black \"Felidor\"]\n",
      "[Result \"1-0\"]\n",
      "[UTCDate \"2022.04.13\"]\n",
      "[UTCTime \"16:32:07\"]\n",
      "[WhiteElo \"1450\"]\n",
      "[BlackElo \"1357\"]\n",
      "[WhiteRatingDiff \"+36\"]\n",
      "[BlackRatingDiff \"-4\"]\n",
      "[Variant \"Standard\"]\n",
      "[TimeControl \"180+0\"]\n",
      "[ECO \"C25\"]\n",
      "[Opening \"Vienna Game\"]\n",
      "[Termination \"Normal\"]\n",
      "\n",
      "1. e4 { [%eval 0.33] [%clk 0:03:00] } 1... e5 { [%eval 0.12] [%clk 0:03:00] } 2. Nc3 { [%eval 0.13] [%clk 0:02:59] } 2... d6 { [%eval 0.5] [%clk 0:02:59] } 3. Bc4 { [%eval 0.26] [%clk 0:02:57] } 3... Be7 { [%eval 0.38] [%clk 0:02:58] } 4. f4 { [%eval 0.28] [%clk 0:02:53] } 4... exf4 { [%eval 0.71] [%clk 0:02:56] } 5. Nf3 { [%eval 0.0] [%clk 0:02:52] } 5... Be6 { [%eval 0.35] [%clk 0:02:52] } 6. Bb3 { [%eval 0.1] [%clk 0:02:49] } 6... Bxb3 { [%eval 0.43] [%clk 0:02:50] } 7. axb3 { [%eval 0.21] [%clk 0:02:49] } 7... Nc6 { [%eval 0.32] [%clk 0:02:49] } 8. d3 { [%eval -0.16] [%clk 0:02:48] } 8... Bg5 { [%eval 0.93] [%clk 0:02:45] } 9. O-O { [%eval 0.78] [%clk 0:02:46] } 9... Nf6 { [%eval 7.71] [%clk 0:02:39] } 10. Nxg5 { [%eval 7.75] [%clk 0:02:45] } 10... O-O { [%eval 9.29] [%clk 0:02:30] } 11. Rxf4 { [%eval 8.7] [%clk 0:02:41] } 11... d5 { [%eval 8.51] [%clk 0:02:20] } 12. exd5 { [%eval 8.4] [%clk 0:02:20] } 12... Nxd5 { [%eval 8.69] [%clk 0:02:13] } 13. Nxd5 { [%eval 8.15] [%clk 0:02:19] } 13... Qxd5 { [%eval 8.54] [%clk 0:02:12] } 14. Ne4 { [%eval 7.7] [%clk 0:02:15] } 14... Rae8 { [%eval 7.42] [%clk 0:02:07] } 15. Qf3 { [%eval 7.15] [%clk 0:02:09] } 15... Qe6 { [%eval 7.9] [%clk 0:01:54] } 16. Bd2 { [%eval 8.13] [%clk 0:02:01] } 16... Nd4 { [%eval 7.5] [%clk 0:01:47] } 17. Qf2 { [%eval 7.85] [%clk 0:01:44] } 17... Nxc2 { [%eval 8.04] [%clk 0:01:21] } 18. Rxa7 { [%eval 6.31] [%clk 0:01:43] } 18... Qc6 { [%eval 7.66] [%clk 0:01:01] } 19. Bc3 { [%eval 7.22] [%clk 0:01:41] } 1-0\n",
      "\n",
      "\n",
      "\n"
     ]
    }
   ],
   "source": [
    "import requests, json\n",
    "\n",
    "url = \"https://www.lichess.org/api/games/user/marrespratt\"\n",
    "\n",
    "r = requests.get(url, params={\"max\":2, \"analysed\":\"true\", \"clocks\":\"true\", \"evals\":\"true\", \"opening\":\"true\"})\n",
    "r_text = r.content.decode(\"utf-8\")\n",
    "print(r_text)\n",
    "#data = json.loads(r_text)"
   ]
  },
  {
   "cell_type": "code",
   "execution_count": 13,
   "metadata": {},
   "outputs": [
    {
     "name": "stdout",
     "output_type": "stream",
     "text": [
      "<Response [200]>\n",
      "{\"id\":\"PLqa8uS8\",\"url\":\"https://lichess.org/PLqa8uS8\"}\n"
     ]
    }
   ],
   "source": [
    "import requests\n",
    "\n",
    "endpoint = \"https://lichess.org/api/import\"\n",
    "            \n",
    "pgn = \"\"\"\n",
    "[Event \"Casual Blitz game\"]\n",
    "[Site \"https://lichess.org/tvdw3N53\"]\n",
    "[Date \"2022.04.30\"]\n",
    "[White \"lichess AI level 1\"]\n",
    "[Black \"Marrespratt\"]\n",
    "[Result \"0-1\"]\n",
    "[UTCDate \"2022.04.30\"]\n",
    "[UTCTime \"09:28:22\"]\n",
    "[WhiteElo \"?\"]\n",
    "[BlackElo \"1488\"]\n",
    "[Variant \"Standard\"]\n",
    "[TimeControl \"180+2\"]\n",
    "[ECO \"B10\"]\n",
    "[Termination \"Normal\"]\n",
    "\n",
    "1. e4 c6 2. Nf3 d5 3. exd5 cxd5 4. d4 Nc6 5. Bd3 Bg4 6. c3 e6 7. h3 Bxf3 8. Qxf3 Nf6 9. Nd2 Bd6 10. O-O O-O 11. Qd1 a6 12. Nb3 b5 13. Re1 e5 14. dxe5 Nxe5 15. Bf5 Nc4 16. Nd4 Re8 17. Bc2 Rxe1+ 18. Qxe1 Qc7 19. Nf5 Bh2+ 20. Kf1 Re8 21. Be3 Nxb2 22. Qe2 Nc4 23. Re1 a5 24. Rb1 b4 25. g3 bxc3 26. Qd3 Nd2+ 27. Ke2 Nxb1 28. Nd4 Qc4 29. Kf3 Qxd3 30. Bxb1 Bxg3 31. Bc2 Rxe3+ 32. Kg2 Qxd4 33. Be4 c2 34. Bg6 hxg6 35. h4 c1=Q 36. f3 Qc2+ 37. Kh3 Qxh4# 0-1\n",
    "\"\"\"\n",
    "\n",
    "data = {'pgn': pgn}\n",
    "\n",
    "r = requests.post(endpoint, data=data)\n",
    "r_text = r.content.decode(\"utf-8\")\n",
    "print(r)\n",
    "print(r_text)"
   ]
  },
  {
   "cell_type": "code",
   "execution_count": 14,
   "metadata": {},
   "outputs": [
    {
     "name": "stdout",
     "output_type": "stream",
     "text": [
      "<Response [200]>\n",
      "[Event \"Daily Classical Arena\"]\n",
      "[Site \"https://lichess.org/TJxUmbWK\"]\n",
      "[Date \"2017.08.30\"]\n",
      "[White \"arex\"]\n",
      "[Black \"JERC-12Jesus\"]\n",
      "[Result \"1-0\"]\n",
      "[UTCDate \"2017.08.30\"]\n",
      "[UTCTime \"20:40:27\"]\n",
      "[WhiteElo \"1627\"]\n",
      "[BlackElo \"1740\"]\n",
      "[WhiteRatingDiff \"+15\"]\n",
      "[BlackRatingDiff \"-15\"]\n",
      "[Variant \"Standard\"]\n",
      "[TimeControl \"600+0\"]\n",
      "[ECO \"B07\"]\n",
      "[Termination \"Normal\"]\n",
      "\n",
      "1. e4 d6 2. d4 Nf6 3. Nc3 g6 4. Bd3 Bg7 5. Be3 O-O 6. Qd2 Ng4 7. O-O-O Nxe3 8. Qxe3 Nd7 9. f4 Nf6 10. h3 c6 11. g4 Qb6 12. Nf3 c5 13. dxc5 Qxc5 14. Qxc5 dxc5 15. e5 Nd7 16. Nd5 e6 17. Ne7+ Kh8 18. Bb5 a6 19. Bxd7 Bxd7 20. Rxd7 Rfe8 21. Rxb7 1-0\n",
      "\n",
      "\n",
      "[Event \"Daily Classical Arena\"]\n",
      "[Site \"https://lichess.org/4OtIh2oh\"]\n",
      "[Date \"2017.08.30\"]\n",
      "[White \"wowk\"]\n",
      "[Black \"arex\"]\n",
      "[Result \"1-0\"]\n",
      "[UTCDate \"2017.08.30\"]\n",
      "[UTCTime \"20:21:03\"]\n",
      "[WhiteElo \"1662\"]\n",
      "[BlackElo \"1638\"]\n",
      "[WhiteRatingDiff \"+10\"]\n",
      "[BlackRatingDiff \"-11\"]\n",
      "[Variant \"Standard\"]\n",
      "[TimeControl \"600+0\"]\n",
      "[ECO \"C89\"]\n",
      "[Termination \"Time forfeit\"]\n",
      "\n",
      "1. e4 e5 2. Nf3 Nc6 3. Bb5 a6 4. Ba4 Nf6 5. O-O Be7 6. Re1 b5 7. Bb3 O-O 8. c3 d5 9. exd5 Nxd5 10. Nxe5 Nxe5 11. Rxe5 c6 12. Bxd5 cxd5 13. Qe2 Bd6 14. Rh5 g6 15. Rxd5 Bxh2+ 16. Kxh2 Qxd5 17. d4 Bb7 18. f3 Rae8 19. Qf2 Qh5+ 20. Kg1 Re7 21. Bf4 Rfe8 22. Nd2 Re2 23. Qg3 h6 24. Rf1 g5 25. Ne4 Bxe4 26. fxe4 R2xe4 27. Be5 Qe2 28. Rf6 Re6 29. Rxe6 fxe6 30. Bf6 Qd1+ 31. Kf2 Re2+ 32. Kf3 Qf1+ 33. Kg4 Qf5+ 34. Kh5 Qxf6 35. Qb8+ 1-0\n",
      "\n",
      "\n",
      "[Event \"Daily Classical Arena\"]\n",
      "[Site \"https://lichess.org/ILwozzRZ\"]\n",
      "[Date \"2017.08.30\"]\n",
      "[White \"Roven1976\"]\n",
      "[Black \"arex\"]\n",
      "[Result \"0-1\"]\n",
      "[UTCDate \"2017.08.30\"]\n",
      "[UTCTime \"20:05:42\"]\n",
      "[WhiteElo \"1615\"]\n",
      "[BlackElo \"1627\"]\n",
      "[WhiteRatingDiff \"-10\"]\n",
      "[BlackRatingDiff \"+11\"]\n",
      "[Variant \"Standard\"]\n",
      "[TimeControl \"600+0\"]\n",
      "[ECO \"C55\"]\n",
      "[Termination \"Normal\"]\n",
      "\n",
      "1. e4 e5 2. Nf3 Nc6 3. Bc4 Nf6 4. d3 d6 5. Be3 Be7 6. Nc3 O-O 7. O-O Na5 8. Bb5 c6 9. b4 cxb5 10. bxa5 Qxa5 11. Ne2 h6 12. d4 b4 13. dxe5 dxe5 14. Nxe5 Qxe5 15. Qd3 Be6 16. Bd4 Qxe4 17. Bxf6 Qxd3 18. cxd3 Bxf6 19. Rab1 a5 20. a3 b3 21. d4 Rfd8 22. Rfd1 a4 23. Nf4 Rxd4 24. Nxe6 fxe6 25. Re1 Kf7 26. Rbc1 Rd7 27. f4 Bb2 28. Rb1 Bxa3 29. Re5 Rd5 30. Re4 b5 31. g4 Bc5+ 32. Kh1 a3 33. Rxb3 a2 34. Re1 a1=Q 35. Rxa1 Rxa1+ 36. Kg2 0-1\n",
      "\n",
      "\n",
      "\n"
     ]
    }
   ],
   "source": [
    "import requests\n",
    "from requests.auth import HTTPBasicAuth\n",
    "\n",
    "auth_token = 'access_token lip_UzqKpePwZw1shYm3cYEo'\n",
    "\n",
    "url = 'https://lichess.org/api/games/export/_ids'\n",
    "\n",
    "data = \"TJxUmbWK,4OtIh2oh,ILwozzRZ\"\n",
    "\n",
    "r = requests.post(url, data=data) \n",
    "print(r)\n",
    "print(r.content.decode(\"utf-8\"))"
   ]
  },
  {
   "cell_type": "code",
   "execution_count": 15,
   "metadata": {},
   "outputs": [
    {
     "data": {
      "text/html": [
       "<p style=\"font-size:60px\">&#128561</p>"
      ],
      "text/plain": [
       "<IPython.core.display.HTML object>"
      ]
     },
     "metadata": {},
     "output_type": "display_data"
    },
    {
     "data": {
      "text/html": [
       "<p style=\"font-size:60px\">&#128552</p>"
      ],
      "text/plain": [
       "<IPython.core.display.HTML object>"
      ]
     },
     "metadata": {},
     "output_type": "display_data"
    },
    {
     "data": {
      "text/html": [
       "<p style=\"font-size:60px\">&#128546</p>"
      ],
      "text/plain": [
       "<IPython.core.display.HTML object>"
      ]
     },
     "metadata": {},
     "output_type": "display_data"
    },
    {
     "data": {
      "text/html": [
       "<p style=\"font-size:60px\">&#128534</p>"
      ],
      "text/plain": [
       "<IPython.core.display.HTML object>"
      ]
     },
     "metadata": {},
     "output_type": "display_data"
    },
    {
     "data": {
      "text/html": [
       "<p style=\"font-size:60px\">&#128533</p>"
      ],
      "text/plain": [
       "<IPython.core.display.HTML object>"
      ]
     },
     "metadata": {},
     "output_type": "display_data"
    },
    {
     "data": {
      "text/html": [
       "<p style=\"font-size:60px\">&#128528</p>"
      ],
      "text/plain": [
       "<IPython.core.display.HTML object>"
      ]
     },
     "metadata": {},
     "output_type": "display_data"
    },
    {
     "data": {
      "text/html": [
       "<p style=\"font-size:60px\">&#128578</p>"
      ],
      "text/plain": [
       "<IPython.core.display.HTML object>"
      ]
     },
     "metadata": {},
     "output_type": "display_data"
    },
    {
     "data": {
      "text/html": [
       "<p style=\"font-size:60px\">&#128512</p>"
      ],
      "text/plain": [
       "<IPython.core.display.HTML object>"
      ]
     },
     "metadata": {},
     "output_type": "display_data"
    },
    {
     "data": {
      "text/html": [
       "<p style=\"font-size:60px\">&#128513</p>"
      ],
      "text/plain": [
       "<IPython.core.display.HTML object>"
      ]
     },
     "metadata": {},
     "output_type": "display_data"
    },
    {
     "data": {
      "text/html": [
       "<p style=\"font-size:60px\">&#128514</p>"
      ],
      "text/plain": [
       "<IPython.core.display.HTML object>"
      ]
     },
     "metadata": {},
     "output_type": "display_data"
    },
    {
     "data": {
      "text/html": [
       "<p style=\"font-size:60px\">&#128526</p>"
      ],
      "text/plain": [
       "<IPython.core.display.HTML object>"
      ]
     },
     "metadata": {},
     "output_type": "display_data"
    }
   ],
   "source": [
    "from IPython.display import display, SVG, HTML, clear_output\n",
    "from numpy import interp\n",
    "import emoji\n",
    "\n",
    "emoji_list = [\n",
    "                \"&#128561\",\n",
    "                \"&#128552\",\n",
    "                \"&#128546\",\n",
    "                \"&#128534\",\n",
    "                \"&#128533\",\n",
    "                \"&#128528\",\n",
    "                \"&#128578\",\n",
    "                \"&#128512\", \n",
    "                \"&#128513\",\n",
    "                \"&#128514\",\n",
    "                \"&#128526\",\n",
    "            ]\n",
    "\n",
    "for e in emoji_list:\n",
    "    html = '<p style=\"font-size:60px\">%s</p>' % (e)\n",
    "    display(HTML(html))\n",
    "\n"
   ]
  }
 ],
 "metadata": {
  "interpreter": {
   "hash": "4441d43fcd0fab757ee0e8d1940cf9cca29ce978e48530940483b8621402411f"
  },
  "kernelspec": {
   "display_name": "Python 3.9.5 64-bit ('3.9.5')",
   "language": "python",
   "name": "python3"
  },
  "language_info": {
   "codemirror_mode": {
    "name": "ipython",
    "version": 3
   },
   "file_extension": ".py",
   "mimetype": "text/x-python",
   "name": "python",
   "nbconvert_exporter": "python",
   "pygments_lexer": "ipython3",
   "version": "3.9.5"
  },
  "orig_nbformat": 4
 },
 "nbformat": 4,
 "nbformat_minor": 2
}
